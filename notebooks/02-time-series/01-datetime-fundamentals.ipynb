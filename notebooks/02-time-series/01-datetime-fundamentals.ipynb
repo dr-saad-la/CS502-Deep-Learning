{
 "cells": [
  {
   "cell_type": "markdown",
   "id": "a288f230-95bf-4c33-b76d-637dc08ce690",
   "metadata": {},
   "source": [
    "# Working with Python's Datetime Module"
   ]
  },
  {
   "cell_type": "markdown",
   "id": "ef2cab55-f416-4582-bd4f-ca1745f7e71d",
   "metadata": {},
   "source": [
    "## Introduction\n",
    "In this notebook, we'll explore Python's `datetime` module, which provides classes for working with dates and times. This is essential for time series analysis, scheduling, and any application that needs to handle temporal data.\n",
    "\n",
    "# Table of Contents\n",
    "1. Basic Datetime Objects\n",
    "2. Date Arithmetic and Timedeltas\n",
    "3. Date Formatting and Parsing\n",
    "4. Timezone Handling\n",
    "5. Practical Exercises\n",
    "\n",
    "## 1. Basic Datetime Objects\n",
    "\n",
    "First, let's import the necessary modules:"
   ]
  },
  {
   "cell_type": "code",
   "execution_count": 1,
   "id": "76b9c478-714c-47f1-810f-7504a3ae65d2",
   "metadata": {},
   "outputs": [],
   "source": [
    "# import necessary modules from datetime module\n",
    "from datetime import datetime, date, time, timedelta\n",
    "import pytz          # for timezone handling"
   ]
  },
  {
   "cell_type": "markdown",
   "id": "1f93cb36-b4ce-408a-8f63-e5602aeaa4a7",
   "metadata": {},
   "source": [
    "### Creating datetime objects"
   ]
  },
  {
   "cell_type": "code",
   "execution_count": 2,
   "id": "d0f19715-e6f5-4d11-8d4f-cc92da085665",
   "metadata": {},
   "outputs": [
    {
     "name": "stdout",
     "output_type": "stream",
     "text": [
      "Current datetime: 2025-02-18 19:45:17.494760\n",
      "<class 'datetime.datetime'>\n"
     ]
    }
   ],
   "source": [
    "# Current date and time\n",
    "current_datetime = datetime.now()             # method\n",
    "print(f\"Current datetime: {current_datetime}\")\n",
    "\n",
    "# Check the dtype\n",
    "print(type(current_datetime))"
   ]
  },
  {
   "cell_type": "code",
   "execution_count": 3,
   "id": "caeea876-3033-4d7d-8cb2-2b53ab757c89",
   "metadata": {},
   "outputs": [
    {
     "name": "stdout",
     "output_type": "stream",
     "text": [
      "Specific datetime: 2025-02-15 14:30:00\n"
     ]
    }
   ],
   "source": [
    "# Creating a specific datetime (object)\n",
    "specific_datetime = datetime(2025, 2, 15, 14, 30, 0)  # Year, Month, Day, Hour, Minute, Second\n",
    "print(f\"Specific datetime: {specific_datetime}\")"
   ]
  },
  {
   "cell_type": "code",
   "execution_count": 4,
   "id": "40a136b3-59b2-41ea-83a3-e78c11042268",
   "metadata": {},
   "outputs": [
    {
     "name": "stdout",
     "output_type": "stream",
     "text": [
      "Today's date: 2025-02-18\n"
     ]
    }
   ],
   "source": [
    "# Creating just a date\n",
    "today = date.today()\n",
    "print(f\"Today's date: {today}\")"
   ]
  },
  {
   "cell_type": "code",
   "execution_count": 5,
   "id": "7baf9452-578d-47d4-b6a9-b224c9262cf9",
   "metadata": {},
   "outputs": [
    {
     "name": "stdout",
     "output_type": "stream",
     "text": [
      "Specific time: 14:30:00\n"
     ]
    }
   ],
   "source": [
    "# Creating just a time\n",
    "current_time = time(14, 30, 0)  # Hour, Minute, Second\n",
    "print(f\"Specific time: {current_time}\")"
   ]
  },
  {
   "cell_type": "markdown",
   "id": "100e692a-91ab-4511-b148-56c1a757573f",
   "metadata": {},
   "source": [
    "### Accessing datetime components"
   ]
  },
  {
   "cell_type": "code",
   "execution_count": 6,
   "id": "7692494b-cb31-4001-b659-942715298f25",
   "metadata": {},
   "outputs": [
    {
     "name": "stdout",
     "output_type": "stream",
     "text": [
      "Year: 2025\n",
      "Month: 2\n",
      "Day: 18\n",
      "Hour: 19\n",
      "Minute: 45\n",
      "Second: 17\n",
      "Microsecond: 505639\n",
      "Weekday: 1\n"
     ]
    }
   ],
   "source": [
    "dt = datetime.now()\n",
    "\n",
    "# Accessing individual components\n",
    "print(f\"Year: {dt.year}\")\n",
    "print(f\"Month: {dt.month}\")\n",
    "print(f\"Day: {dt.day}\")\n",
    "print(f\"Hour: {dt.hour}\")\n",
    "print(f\"Minute: {dt.minute}\")\n",
    "print(f\"Second: {dt.second}\")\n",
    "print(f\"Microsecond: {dt.microsecond}\")\n",
    "print(f\"Weekday: {dt.weekday()}\")  # Monday is 0 and Sunday is 6"
   ]
  },
  {
   "cell_type": "markdown",
   "id": "d9433adf-790c-4826-9b19-7dacc7709d54",
   "metadata": {},
   "source": [
    "## 2. Date Arithmetic and Timedeltas\n",
    "\n",
    "### Working with timedelta"
   ]
  },
  {
   "cell_type": "code",
   "execution_count": 7,
   "id": "7d52397e-5e76-453c-a954-ddcd4e9fbb10",
   "metadata": {},
   "outputs": [
    {
     "name": "stdout",
     "output_type": "stream",
     "text": [
      "Tomorrow: 2025-02-19 19:45:17.509685\n",
      "Last week: 2025-02-11 19:45:17.509702\n",
      "Days between dates: 364\n"
     ]
    }
   ],
   "source": [
    "# Creating timedelta objects\n",
    "one_day = timedelta(days=1)\n",
    "one_week = timedelta(weeks=1)\n",
    "custom_delta = timedelta(days=2, hours=3, minutes=30)\n",
    "\n",
    "# Adding/subtracting time\n",
    "tomorrow = datetime.now() + one_day\n",
    "last_week = datetime.now() - one_week\n",
    "\n",
    "print(f\"Tomorrow: {tomorrow}\")\n",
    "print(f\"Last week: {last_week}\")\n",
    "\n",
    "# Finding time differences\n",
    "date1 = datetime(2025, 1, 1)\n",
    "date2 = datetime(2025, 12, 31)\n",
    "time_difference = date2 - date1\n",
    "print(f\"Days between dates: {time_difference.days}\")"
   ]
  },
  {
   "cell_type": "markdown",
   "id": "9d8215fe-5571-4f60-9d4e-79d109f1d79e",
   "metadata": {},
   "source": [
    "### Practical time calculations"
   ]
  },
  {
   "cell_type": "code",
   "execution_count": 8,
   "id": "872255cc-c0b3-41ce-bf67-5e0080a513e3",
   "metadata": {},
   "outputs": [
    {
     "name": "stdout",
     "output_type": "stream",
     "text": [
      "After 5 business days from 2025-02-15: 2025-02-21\n"
     ]
    }
   ],
   "source": [
    "# Business days calculation (simplified)\n",
    "def add_business_days(date_obj, n_days):\n",
    "    current = date_obj\n",
    "    remaining_days = n_days\n",
    "    while remaining_days > 0:\n",
    "        current += timedelta(days=1)\n",
    "        if current.weekday() < 5:  # Monday-Friday are 0-4\n",
    "            remaining_days -= 1\n",
    "    return current\n",
    "\n",
    "# Example usage\n",
    "start_date = datetime(2025, 2, 15)\n",
    "end_date = add_business_days(start_date, 5)\n",
    "print(f\"After 5 business days from {start_date.date()}: {end_date.date()}\")"
   ]
  },
  {
   "cell_type": "markdown",
   "id": "01efbbc0-c6a1-4a45-b334-fcf04fa62faa",
   "metadata": {},
   "source": [
    "## 3. Date Formatting and Parsing\n",
    "\n",
    "### Parsing strings to datetime"
   ]
  },
  {
   "cell_type": "code",
   "execution_count": 9,
   "id": "10c93bba-3a54-4cd7-b71d-d5fba0e4f65e",
   "metadata": {},
   "outputs": [
    {
     "name": "stdout",
     "output_type": "stream",
     "text": [
      "Parsed date: 2025-02-15 14:30:00\n",
      "Original: 2025-02-15, Parsed: 2025-02-15 00:00:00\n",
      "Original: 15/02/2025, Parsed: 2025-02-15 00:00:00\n",
      "Original: Feb 15, 2025, Parsed: 2025-02-15 00:00:00\n",
      "Original: 15-Feb-2025 14:30, Parsed: 2025-02-15 14:30:00\n"
     ]
    }
   ],
   "source": [
    "# Parsing dates from strings\n",
    "date_string = \"2025-02-15 14:30:00\"\n",
    "parsed_date = datetime.strptime(date_string, \"%Y-%m-%d %H:%M:%S\")\n",
    "print(f\"Parsed date: {parsed_date}\")\n",
    "\n",
    "# Different format examples\n",
    "formats = {\n",
    "    \"2025-02-15\": \"%Y-%m-%d\",\n",
    "    \"15/02/2025\": \"%d/%m/%Y\",\n",
    "    \"Feb 15, 2025\": \"%b %d, %Y\",\n",
    "    \"15-Feb-2025 14:30\": \"%d-%b-%Y %H:%M\"\n",
    "}\n",
    "\n",
    "for date_str, fmt in formats.items():\n",
    "    parsed = datetime.strptime(date_str, fmt)\n",
    "    print(f\"Original: {date_str}, Parsed: {parsed}\")"
   ]
  },
  {
   "cell_type": "markdown",
   "id": "60f4589f-f473-4ed4-9c7a-839528c36145",
   "metadata": {},
   "source": [
    "### Formatting datetime to strings"
   ]
  },
  {
   "cell_type": "code",
   "execution_count": 10,
   "id": "9d6ad1de-7312-4ca1-be40-9e6c7205cedc",
   "metadata": {},
   "outputs": [
    {
     "name": "stdout",
     "output_type": "stream",
     "text": [
      "ISO format: 2025-02-18T19:45:17.519095\n",
      "Custom format 1: 2025-02-18 19:45:17\n",
      "Custom format 2: February 18, 2025\n",
      "Custom format 3: 18/02/25 07:45 PM\n",
      "Custom format 4: Tuesday, February 18, 2025\n"
     ]
    }
   ],
   "source": [
    "now = datetime.now()\n",
    "\n",
    "# Different format strings\n",
    "print(f\"ISO format: {now.isoformat()}\")\n",
    "print(f\"Custom format 1: {now.strftime('%Y-%m-%d %H:%M:%S')}\")\n",
    "print(f\"Custom format 2: {now.strftime('%B %d, %Y')}\")\n",
    "print(f\"Custom format 3: {now.strftime('%d/%m/%y %I:%M %p')}\")\n",
    "print(f\"Custom format 4: {now.strftime('%A, %B %d, %Y')}\")"
   ]
  },
  {
   "cell_type": "markdown",
   "id": "c19ffa0b-74d3-49aa-a899-994e02f0472a",
   "metadata": {},
   "source": [
    "## 4. Timezone Handling\n",
    "\n",
    "### Working with timezones"
   ]
  },
  {
   "cell_type": "code",
   "execution_count": 11,
   "id": "c40d2ec8-70dd-423c-8577-b7c40a6d1526",
   "metadata": {},
   "outputs": [
    {
     "name": "stdout",
     "output_type": "stream",
     "text": [
      "Sample of available timezones:\n",
      "Africa/Abidjan\n",
      "Africa/Accra\n",
      "Africa/Addis_Ababa\n",
      "Africa/Algiers\n",
      "Africa/Asmara\n",
      "UTC time: 2025-02-18 18:45:17.546900+00:00\n",
      "New York: 2025-02-18 13:45:17.546900-05:00\n",
      "London: 2025-02-18 18:45:17.546900+00:00\n",
      "Tokyo: 2025-02-19 03:45:17.546900+09:00\n"
     ]
    }
   ],
   "source": [
    "# List available timezones\n",
    "print(\"Sample of available timezones:\")\n",
    "for tz in list(pytz.all_timezones)[:5]:  # Show first 5 timezones\n",
    "    print(tz)\n",
    "\n",
    "# Create timezone-aware datetime\n",
    "utc_now = datetime.now(pytz.UTC)\n",
    "print(f\"UTC time: {utc_now}\")\n",
    "\n",
    "# Convert between timezones\n",
    "ny_tz = pytz.timezone('America/New_York')\n",
    "london_tz = pytz.timezone('Europe/London')\n",
    "tokyo_tz = pytz.timezone('Asia/Tokyo')\n",
    "\n",
    "ny_time = utc_now.astimezone(ny_tz)\n",
    "london_time = utc_now.astimezone(london_tz)\n",
    "tokyo_time = utc_now.astimezone(tokyo_tz)\n",
    "\n",
    "print(f\"New York: {ny_time}\")\n",
    "print(f\"London: {london_time}\")\n",
    "print(f\"Tokyo: {tokyo_time}\")"
   ]
  },
  {
   "cell_type": "code",
   "execution_count": 12,
   "id": "a974b9ed-dc92-4ffe-be02-70f2e97bb926",
   "metadata": {},
   "outputs": [],
   "source": [
    "## 5. Practical Exercises\n",
    "\n",
    "### Exercise 1: Age Calculator\n",
    "\n"
   ]
  },
  {
   "cell_type": "code",
   "execution_count": 13,
   "id": "96c35443-935e-4732-a28d-ac5ba4ac5f69",
   "metadata": {},
   "outputs": [
    {
     "name": "stdout",
     "output_type": "stream",
     "text": [
      "Age: 34 years\n"
     ]
    }
   ],
   "source": [
    "def calculate_age(birthdate):\n",
    "    today = date.today()\n",
    "    age = today.year - birthdate.year - ((today.month, today.day) < (birthdate.month, birthdate.day))\n",
    "    return age\n",
    "\n",
    "\n",
    "# Example\n",
    "birthdate = date(1990, 6, 15)\n",
    "age = calculate_age(birthdate)\n",
    "print(f\"Age: {age} years\")"
   ]
  },
  {
   "cell_type": "markdown",
   "id": "f850b2d2-e426-4d58-adbe-484f89debbf9",
   "metadata": {},
   "source": [
    "### Exercise 2: Meeting Scheduler Across Timezones"
   ]
  },
  {
   "cell_type": "code",
   "execution_count": 14,
   "id": "7bdd2862-84a4-4db1-959b-15269c8b6c96",
   "metadata": {},
   "outputs": [
    {
     "name": "stdout",
     "output_type": "stream",
     "text": [
      "\n",
      "Meeting times across timezones:\n",
      "America/New_York: 2025-02-18 01:45 PM\n",
      "Europe/London: 2025-02-18 06:45 PM\n",
      "Asia/Tokyo: 2025-02-19 03:45 AM\n"
     ]
    }
   ],
   "source": [
    "def schedule_meeting(meeting_time, attendee_timezones):\n",
    "    \"\"\"Convert meeting time to different timezones for attendees.\"\"\"\n",
    "    meeting_times = {}\n",
    "    \n",
    "    for tz_name in attendee_timezones:\n",
    "        tz = pytz.timezone(tz_name)\n",
    "        local_time = meeting_time.astimezone(tz)\n",
    "        meeting_times[tz_name] = local_time\n",
    "    \n",
    "    return meeting_times\n",
    "\n",
    "# Example usage\n",
    "meeting_time = datetime.now(pytz.UTC)\n",
    "attendee_timezones = ['America/New_York', 'Europe/London', 'Asia/Tokyo']\n",
    "meeting_schedule = schedule_meeting(meeting_time, attendee_timezones)\n",
    "\n",
    "print(\"\\nMeeting times across timezones:\")\n",
    "for tz, time in meeting_schedule.items():\n",
    "    print(f\"{tz}: {time.strftime('%Y-%m-%d %I:%M %p')}\")"
   ]
  },
  {
   "cell_type": "code",
   "execution_count": 15,
   "id": "bacc12e0-aab3-4133-8fa7-d6dd2444d1a0",
   "metadata": {},
   "outputs": [],
   "source": [
    "### Exercise 3: Date Range Generator"
   ]
  },
  {
   "cell_type": "code",
   "execution_count": 16,
   "id": "e88f2eb6-bfc0-4cb0-8a65-010e59318be3",
   "metadata": {},
   "outputs": [
    {
     "name": "stdout",
     "output_type": "stream",
     "text": [
      "\n",
      "Date range:\n",
      "2025-01-01\n",
      "2025-01-02\n",
      "2025-01-03\n",
      "2025-01-04\n",
      "2025-01-05\n",
      "2025-01-06\n",
      "2025-01-07\n"
     ]
    }
   ],
   "source": [
    "def date_range(start_date, end_date):\n",
    "    \"\"\"Generate a range of dates between start_date and end_date.\"\"\"\n",
    "    for n in range(int((end_date - start_date).days) + 1):\n",
    "        yield start_date + timedelta(n)\n",
    "\n",
    "# Example usage\n",
    "start = date(2025, 1, 1)\n",
    "end = date(2025, 1, 7)\n",
    "\n",
    "print(\"\\nDate range:\")\n",
    "for d in date_range(start, end):\n",
    "    print(d.strftime('%Y-%m-%d'))"
   ]
  },
  {
   "cell_type": "code",
   "execution_count": 17,
   "id": "1caa5e30-1caa-4146-b681-10e0e6b1d48f",
   "metadata": {},
   "outputs": [],
   "source": [
    "### Exercise 4: Holiday Calculator"
   ]
  },
  {
   "cell_type": "code",
   "execution_count": 18,
   "id": "6ad374bf-804e-4b5a-b499-8ea453e0e2c0",
   "metadata": {},
   "outputs": [
    {
     "name": "stdout",
     "output_type": "stream",
     "text": [
      "\n",
      "After adding 5 working days to 2025-01-01: 2025-01-08\n"
     ]
    }
   ],
   "source": [
    "def is_holiday(date_obj, holidays):\n",
    "    \"\"\"Check if a date is a holiday.\"\"\"\n",
    "    return date_obj in holidays\n",
    "\n",
    "def add_working_days(start_date, n_days, holidays):\n",
    "    \"\"\"Add working days to a date, excluding weekends and holidays.\"\"\"\n",
    "    current = start_date\n",
    "    remaining_days = n_days\n",
    "    \n",
    "    while remaining_days > 0:\n",
    "        current += timedelta(days=1)\n",
    "        if current.weekday() < 5 and not is_holiday(current, holidays):\n",
    "            remaining_days -= 1\n",
    "    \n",
    "    return current\n",
    "\n",
    "# Example usage\n",
    "holidays = {\n",
    "    date(2025, 1, 1),  # New Year's Day\n",
    "    date(2025, 12, 25),  # Christmas\n",
    "}\n",
    "\n",
    "start_date = date(2025, 1, 1)\n",
    "result_date = add_working_days(start_date, 5, holidays)\n",
    "print(f\"\\nAfter adding 5 working days to {start_date}: {result_date}\")"
   ]
  },
  {
   "cell_type": "markdown",
   "id": "b977f8c0-45f5-4985-b25f-d96227fa6675",
   "metadata": {},
   "source": [
    "## Conclusion\n",
    "\n",
    "This notebook covered the essential aspects of working with dates and times in Python:\n",
    "- Creating and manipulating datetime objects\n",
    "- Performing date arithmetic\n",
    "- Formatting and parsing dates\n",
    "- Handling timezones\n",
    "- Practical applications\n",
    "\n",
    "Practice these concepts with your own examples and use cases to become proficient in handling temporal data in Python."
   ]
  },
  {
   "cell_type": "code",
   "execution_count": null,
   "id": "0e8ffd12-fe55-4b46-b546-be86501ae025",
   "metadata": {},
   "outputs": [],
   "source": []
  }
 ],
 "metadata": {
  "kernelspec": {
   "display_name": "TF-GPU:2.16",
   "language": "python",
   "name": "tf-gpu"
  },
  "language_info": {
   "codemirror_mode": {
    "name": "ipython",
    "version": 3
   },
   "file_extension": ".py",
   "mimetype": "text/x-python",
   "name": "python",
   "nbconvert_exporter": "python",
   "pygments_lexer": "ipython3",
   "version": "3.11.0"
  }
 },
 "nbformat": 4,
 "nbformat_minor": 5
}
