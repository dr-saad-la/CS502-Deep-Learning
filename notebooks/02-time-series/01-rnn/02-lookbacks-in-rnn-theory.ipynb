{
 "cells": [
  {
   "cell_type": "markdown",
   "id": "c463b483-dde0-4583-a4a6-a5ebdf375151",
   "metadata": {},
   "source": [
    "# Understanding Lookbacks in RNN"
   ]
  },
  {
   "cell_type": "code",
   "execution_count": 44,
   "id": "7a3cc6d8-a725-472b-8a1a-19a0224b89c0",
   "metadata": {
    "tags": []
   },
   "outputs": [],
   "source": [
    "# Environment Setup\n",
    "import pandas as pd\n",
    "import numpy as np\n",
    "\n",
    "import matplotlib.pyplot as plt\n",
    "\n",
    "import tensorflow as tf\n",
    "from tensorflow.keras import backend as K\n",
    "from sklearn.preprocessing import MinMaxScaler\n",
    "\n",
    "pd.set_option('display.precision', 3)\n",
    "np.set_printoptions(precision=3)"
   ]
  },
  {
   "cell_type": "markdown",
   "id": "abffa55f-d182-4552-a17b-5a61d8228f8b",
   "metadata": {},
   "source": [
    "## Introduction\n",
    "\n",
    "In this tutorial, we'll explore how to implement and use lookbacks in Recurrent Neural Networks (RNNs) for univariate time series prediction. We'll focus on the case where we have a single variable that serves as both **input and target**."
   ]
  },
  {
   "cell_type": "markdown",
   "id": "b9e5b8ef-8559-4245-9c00-6c53833f2975",
   "metadata": {},
   "source": [
    "## What is a Lookback?\n",
    "\n",
    "A **lookback** (also known as a **window or sequence length**) is the number of previous time steps that we use to predict the next value in a time series. For example:\n",
    "\n",
    "  - **Lookback of 3**: Use values at `t-3`, `t-2`, and `t-1` to predict value at `t`\n",
    "  - **Lookback of 7**: Use the past week's values to predict the next value\n",
    "  - **Lookback of 24**: Use the past day's hourly values to predict the next hour"
   ]
  },
  {
   "cell_type": "markdown",
   "id": "81e61525-6334-4b03-a8c6-f12c6fa12388",
   "metadata": {},
   "source": [
    "## Understanding Data Preparation\n",
    "\n",
    "In this example I'll walk through the steps of data preparation data with different **lookback periods**:"
   ]
  },
  {
   "cell_type": "markdown",
   "id": "025d928c-8e9b-48dd-b5e3-4eb19cd840df",
   "metadata": {},
   "source": [
    "### Original Time Series Data\n",
    "\n",
    "```python\n",
    "data = [1, 2, 3, 4, 5, 6, 7, 8, 9, 10]\n",
    "```\n",
    "\n",
    "### With Lookback = 3\n",
    "```python\n",
    "# Input sequences:\n",
    "X = [\n",
    "    [1, 2, 3],  # Predict 4\n",
    "    [2, 3, 4],  # Predict 5\n",
    "    [3, 4, 5],  # Predict 6\n",
    "    [4, 5, 6],  # Predict 7\n",
    "    [5, 6, 7],  # Predict 8\n",
    "    [6, 7, 8],  # Predict 9\n",
    "    [7, 8, 9]   # Predict 10\n",
    "]\n",
    "\n",
    "# Target values:\n",
    "y = [4, 5, 6, 7, 8, 9, 10]\n",
    "```"
   ]
  },
  {
   "cell_type": "markdown",
   "id": "2296b505-5a3a-4dfa-a1e1-0f7aa6eece2d",
   "metadata": {},
   "source": [
    "## Choosing the Right Lookback Period\n",
    "\n",
    "The choice of lookback period depends on several factors:\n",
    "\n",
    "### 1. Pattern Length\n",
    "- Daily patterns → lookback of 24 (hours)\n",
    "- Weekly patterns → lookback of 7 (days)\n",
    "- Monthly patterns → lookback of 30 (days)\n",
    "\n",
    "### 2. Memory Requirements\n",
    "- Longer lookbacks require more memory\n",
    "- Increase training time\n",
    "- May need to balance with batch size\n",
    "\n",
    "### 3. Signal-to-Noise Ratio\n",
    "- **Too short**: May miss important patterns\n",
    "- **Too long**: May introduce noise\n",
    "- Need to find optimal balance"
   ]
  },
  {
   "cell_type": "markdown",
   "id": "b25e91c7-46a5-4dd8-b43a-00a4fcdc59ac",
   "metadata": {},
   "source": [
    "## Conclusion\n",
    "\n",
    "Understanding and implementing lookbacks correctly is crucial for successful time series prediction with RNNs. Here are the main things:\n",
    "\n",
    "- Choose lookback period based on data patterns\n",
    "- Balance lookback length with computational resources\n",
    "- Use appropriate preprocessing and validation techniques\n",
    "- Consider advanced techniques for complex patterns\n",
    "\n",
    "**Remember that the optimal lookback period is highly dependent on your specific use case and data characteristics. Experimentation and validation are key to finding the best configuration.**"
   ]
  },
  {
   "cell_type": "code",
   "execution_count": null,
   "id": "8fdbda36-91e8-4c29-ab92-37a6a357693f",
   "metadata": {},
   "outputs": [],
   "source": []
  }
 ],
 "metadata": {
  "kernelspec": {
   "display_name": "TF-GPU:2.16",
   "language": "python",
   "name": "tf-gpu"
  },
  "language_info": {
   "codemirror_mode": {
    "name": "ipython",
    "version": 3
   },
   "file_extension": ".py",
   "mimetype": "text/x-python",
   "name": "python",
   "nbconvert_exporter": "python",
   "pygments_lexer": "ipython3",
   "version": "3.11.0"
  }
 },
 "nbformat": 4,
 "nbformat_minor": 5
}
