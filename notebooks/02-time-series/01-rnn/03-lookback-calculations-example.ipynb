{
 "cells": [
  {
   "cell_type": "markdown",
   "id": "8add53f7-d012-4ee6-852d-2c8bf5c23094",
   "metadata": {},
   "source": [
    "## Understanding Lookback in RNN By Example"
   ]
  },
  {
   "cell_type": "code",
   "execution_count": 1,
   "id": "eac54d7c-28b4-4a47-8ed4-71110dbb1ccd",
   "metadata": {},
   "outputs": [],
   "source": [
    "# =========================== # \n",
    "#     Environment Setup \n",
    "# =========================== # \n",
    "import numpy as np\n",
    "import pandas as pd\n",
    "import tensorflow as tf"
   ]
  },
  {
   "cell_type": "markdown",
   "id": "7fb0acdf-acdc-4b89-b984-f21d14066487",
   "metadata": {},
   "source": [
    "---"
   ]
  },
  {
   "cell_type": "code",
   "execution_count": 2,
   "id": "ac94504a-fc67-49e6-9212-834c7ba445bb",
   "metadata": {},
   "outputs": [
    {
     "name": "stdout",
     "output_type": "stream",
     "text": [
      "The temperature data:               [20 22 25 23 24 26 25 27 28 29]\n",
      "The temperature data shape:         (10,)\n"
     ]
    }
   ],
   "source": [
    "# ==================================================#\n",
    "#  Example: Simple temperature data (10 days)\n",
    "# ==================================================#\n",
    "\n",
    "temperatures = np.array([20, 22, 25, 23, 24, 26, 25, 27, 28, 29])\n",
    "print(f\"{'The temperature data:':<35} {temperatures}\")\n",
    "print(f\"{'The temperature data shape:':<35} {temperatures.shape}\")"
   ]
  },
  {
   "cell_type": "code",
   "execution_count": 8,
   "id": "d1f8168e-5383-41ed-a3a6-2f4519eafa64",
   "metadata": {},
   "outputs": [
    {
     "name": "stdout",
     "output_type": "stream",
     "text": [
      "[20 22 25 23 24 26 25 27 28 29]\n",
      "(10,)\n"
     ]
    }
   ],
   "source": [
    "# Let's set lookback = 3 (using 3 days to predict the next day)\n",
    "lookback = 3\n",
    "\n",
    "# Here's how sequences are created:\n",
    "# Input sequence (X)         | Target (y)\n",
    "# [20, 22, 25]               | 23    (day 4)\n",
    "# [22, 25, 23]               | 24    (day 5)\n",
    "# [25, 23, 24]               | 26    (day 6)\n",
    "# [23, 24, 26]               | 25    (day 7)\n",
    "# [24, 26, 25]               | 27    (day 8)\n",
    "# [26, 25, 27]               | 28    (day 9)\n",
    "# [25, 27, 28]               | 29    (day 10)"
   ]
  },
  {
   "cell_type": "code",
   "execution_count": 3,
   "id": "50feb56e-01c9-4f58-a917-0a04e596bd32",
   "metadata": {},
   "outputs": [],
   "source": [
    "def create_sequences(data, lookback):\n",
    "    X, y = [], []\n",
    "    for i in range(len(data) - lookback):\n",
    "        print(f\"{i} {i+lookback}\")\n",
    "        X.append(data[i:i+lookback])\n",
    "        print(X)\n",
    "        y.append(data[i+lookback])\n",
    "        print(y)\n",
    "    return np.array(X), np.array(y)"
   ]
  },
  {
   "cell_type": "code",
   "execution_count": 4,
   "id": "c03674c4-d01b-4b07-8fa9-d36c7a2244ae",
   "metadata": {},
   "outputs": [
    {
     "name": "stdout",
     "output_type": "stream",
     "text": [
      "0 3\n",
      "[array([20, 22, 25])]\n",
      "[23]\n",
      "1 4\n",
      "[array([20, 22, 25]), array([22, 25, 23])]\n",
      "[23, 24]\n",
      "2 5\n",
      "[array([20, 22, 25]), array([22, 25, 23]), array([25, 23, 24])]\n",
      "[23, 24, 26]\n",
      "3 6\n",
      "[array([20, 22, 25]), array([22, 25, 23]), array([25, 23, 24]), array([23, 24, 26])]\n",
      "[23, 24, 26, 25]\n",
      "4 7\n",
      "[array([20, 22, 25]), array([22, 25, 23]), array([25, 23, 24]), array([23, 24, 26]), array([24, 26, 25])]\n",
      "[23, 24, 26, 25, 27]\n",
      "5 8\n",
      "[array([20, 22, 25]), array([22, 25, 23]), array([25, 23, 24]), array([23, 24, 26]), array([24, 26, 25]), array([26, 25, 27])]\n",
      "[23, 24, 26, 25, 27, 28]\n",
      "6 9\n",
      "[array([20, 22, 25]), array([22, 25, 23]), array([25, 23, 24]), array([23, 24, 26]), array([24, 26, 25]), array([26, 25, 27]), array([25, 27, 28])]\n",
      "[23, 24, 26, 25, 27, 28, 29]\n"
     ]
    }
   ],
   "source": [
    "# Create sequences\n",
    "X, y = create_sequences(temperatures, lookback=3)"
   ]
  },
  {
   "cell_type": "code",
   "execution_count": 9,
   "id": "c637c273-20f4-4ad3-a3d8-ff174c528243",
   "metadata": {},
   "outputs": [
    {
     "name": "stdout",
     "output_type": "stream",
     "text": [
      "Sequence 1:\n",
      "Input: [20 22 25] -> Target: 23\n",
      "Sequence 2:\n",
      "Input: [22 25 23] -> Target: 24\n",
      "Sequence 3:\n",
      "Input: [25 23 24] -> Target: 26\n",
      "Sequence 4:\n",
      "Input: [23 24 26] -> Target: 25\n",
      "Sequence 5:\n",
      "Input: [24 26 25] -> Target: 27\n",
      "Sequence 6:\n",
      "Input: [26 25 27] -> Target: 28\n",
      "Sequence 7:\n",
      "Input: [25 27 28] -> Target: 29\n"
     ]
    }
   ],
   "source": [
    "# Print each sequence and its target\n",
    "for i in range(len(X)):\n",
    "    print(f\"Sequence {i+1}:\")\n",
    "    print(f\"Input: {X[i]} -> Target: {y[i]}\")"
   ]
  },
  {
   "cell_type": "code",
   "execution_count": 5,
   "id": "af3953ab-8a01-4633-a2f0-5ea3654fc456",
   "metadata": {},
   "outputs": [
    {
     "name": "stdout",
     "output_type": "stream",
     "text": [
      "[[20 22 25]\n",
      " [22 25 23]\n",
      " [25 23 24]\n",
      " [23 24 26]\n",
      " [24 26 25]\n",
      " [26 25 27]\n",
      " [25 27 28]]\n"
     ]
    }
   ],
   "source": [
    "# Print the input sequences\n",
    "print(X)"
   ]
  },
  {
   "cell_type": "code",
   "execution_count": 6,
   "id": "220da333-7548-45fc-b440-f3e00e717df6",
   "metadata": {},
   "outputs": [
    {
     "name": "stdout",
     "output_type": "stream",
     "text": [
      "(7, 3)\n"
     ]
    }
   ],
   "source": [
    "# Print the input sequences shape\n",
    "print(X.shape)"
   ]
  },
  {
   "cell_type": "code",
   "execution_count": 7,
   "id": "5190a20b-f3be-4b0a-a2c7-2e60ffc7db12",
   "metadata": {},
   "outputs": [
    {
     "name": "stdout",
     "output_type": "stream",
     "text": [
      "[23 24 26 25 27 28 29]\n",
      "(7,)\n"
     ]
    }
   ],
   "source": [
    "# Print the target values and its shape\n",
    "print(y)\n",
    "print(y.shape)"
   ]
  },
  {
   "cell_type": "code",
   "execution_count": 8,
   "id": "b3f82a13-b073-42ba-9601-67b50a5ffcee",
   "metadata": {},
   "outputs": [
    {
     "name": "stdout",
     "output_type": "stream",
     "text": [
      "Original Data:\n",
      "   temperature  humidity  target_temp\n",
      "0           25        60           24\n",
      "1           24        65           23\n",
      "2           23        70           26\n",
      "3           26        63           27\n",
      "4           27        58           28\n",
      "5           28        55           25\n",
      "6           25        57           24\n",
      "(10, 3)\n"
     ]
    }
   ],
   "source": [
    "# ======================================================== #\n",
    "# Simulating a real dataset to enhance our understanding\n",
    "# ======================================================== #\n",
    "\n",
    "# We will create a sample data\n",
    "\n",
    "dates = pd.date_range(start='2024-01-01', end='2024-01-10', freq='h')\n",
    "data = pd.DataFrame({\n",
    "    'temperature': [25, 24, 23, 26, 27, 28, 25, 24, 23, 22],\n",
    "    'humidity': [60, 65, 70, 63, 58, 55, 57, 62, 68, 71],\n",
    "    'target_temp': [24, 23, 26, 27, 28, 25, 24, 23, 22, 21]  # next hour's temperature\n",
    "})\n",
    "\n",
    "# Display information\n",
    "print(\"Original Data:\")\n",
    "print(data.head(7))\n",
    "print(data.shape)"
   ]
  },
  {
   "cell_type": "code",
   "execution_count": 9,
   "id": "99f7fb20-d201-4e22-af51-164d3ca59a6b",
   "metadata": {},
   "outputs": [],
   "source": [
    "# Create sequences with lookback=3\n",
    "# ---------------------------------\n",
    "\n",
    "def create_sequences(data, lookback):\n",
    "    X, y = [], []\n",
    "    for i in range(len(data) - lookback):\n",
    "        # Get features for lookback period\n",
    "        features_sequence = data.iloc[i:(i + lookback)][['temperature', 'humidity']].values\n",
    "        # Get target (next temperature)\n",
    "        target = data.iloc[i + lookback]['target_temp']\n",
    "        X.append(features_sequence)\n",
    "        y.append(target)\n",
    "    return np.array(X), np.array(y)"
   ]
  },
  {
   "cell_type": "code",
   "execution_count": 10,
   "id": "7d3e5fb0-a9ae-41a6-9a40-9b134c326d82",
   "metadata": {},
   "outputs": [
    {
     "name": "stdout",
     "output_type": "stream",
     "text": [
      "[[[25 60]\n",
      "  [24 65]\n",
      "  [23 70]]\n",
      "\n",
      " [[24 65]\n",
      "  [23 70]\n",
      "  [26 63]]\n",
      "\n",
      " [[23 70]\n",
      "  [26 63]\n",
      "  [27 58]]\n",
      "\n",
      " [[26 63]\n",
      "  [27 58]\n",
      "  [28 55]]\n",
      "\n",
      " [[27 58]\n",
      "  [28 55]\n",
      "  [25 57]]\n",
      "\n",
      " [[28 55]\n",
      "  [25 57]\n",
      "  [24 62]]\n",
      "\n",
      " [[25 57]\n",
      "  [24 62]\n",
      "  [23 68]]]\n"
     ]
    }
   ],
   "source": [
    "# Set the lookback to 3 and create the sequences\n",
    "lookback = 3\n",
    "X, y = create_sequences(data, lookback)\n",
    "\n",
    "# print the Input Sequences\n",
    "\n",
    "print(X)"
   ]
  },
  {
   "cell_type": "code",
   "execution_count": 11,
   "id": "91534c81-3bb8-438e-ab4f-1f5f947916c7",
   "metadata": {},
   "outputs": [
    {
     "data": {
      "text/plain": [
       "(7, 3, 2)"
      ]
     },
     "execution_count": 11,
     "metadata": {},
     "output_type": "execute_result"
    }
   ],
   "source": [
    "# Print the input sequences shape \n",
    "X.shape"
   ]
  },
  {
   "cell_type": "code",
   "execution_count": 13,
   "id": "ecb3fa99-e992-4185-8404-b5558e403833",
   "metadata": {},
   "outputs": [
    {
     "name": "stdout",
     "output_type": "stream",
     "text": [
      "[27 28 25 24 23 22 21]\n",
      "(7,)\n"
     ]
    }
   ],
   "source": [
    "# print the target values\n",
    "print(y)\n",
    "print(y.shape)"
   ]
  },
  {
   "cell_type": "code",
   "execution_count": 11,
   "id": "7b5f8e17-7c44-4379-8bb9-6025bddf4f51",
   "metadata": {},
   "outputs": [
    {
     "name": "stdout",
     "output_type": "stream",
     "text": [
      "\n",
      "First sequence (X[0]):\n",
      "Input features:\n",
      "[[25 60]\n",
      " [24 65]\n",
      " [23 70]]\n",
      "\n",
      "Target (y[0]): 27\n"
     ]
    }
   ],
   "source": [
    "print(\"\\nFirst sequence (X[0]):\")\n",
    "print(\"Input features:\")\n",
    "print(X[0])\n",
    "print(\"\\nTarget (y[0]):\", y[0])"
   ]
  },
  {
   "cell_type": "code",
   "execution_count": 5,
   "id": "d0265560-81a1-4436-bbbd-feec8192095b",
   "metadata": {},
   "outputs": [
    {
     "name": "stdout",
     "output_type": "stream",
     "text": [
      "\n",
      "Sequence shapes:\n",
      "X shape: (7, 3, 2)\n",
      "y shape: (7,)\n",
      "\n",
      "Detailed look at first few sequences:\n",
      "\n",
      "Sequence 1:\n",
      "Input:\n",
      "Time    Temperature  Humidity\n",
      "t-3    25.0°C        60%\n",
      "t-2    24.0°C        65%\n",
      "t-1    23.0°C        70%\n",
      "Target: 27°C\n",
      "\n",
      "Sequence 2:\n",
      "Input:\n",
      "Time    Temperature  Humidity\n",
      "t-3    24.0°C        65%\n",
      "t-2    23.0°C        70%\n",
      "t-1    26.0°C        63%\n",
      "Target: 28°C\n",
      "\n",
      "Sequence 3:\n",
      "Input:\n",
      "Time    Temperature  Humidity\n",
      "t-3    23.0°C        70%\n",
      "t-2    26.0°C        63%\n",
      "t-1    27.0°C        58%\n",
      "Target: 25°C\n"
     ]
    }
   ],
   "source": [
    "print(\"\\nSequence shapes:\")\n",
    "print(f\"X shape: {X.shape}\")       # (samples, lookback, features)\n",
    "print(f\"y shape: {y.shape}\")        # (samples,)\n",
    "\n",
    "# Let's look at what each sequence represents\n",
    "print(\"\\nDetailed look at first few sequences:\")\n",
    "for i in range(3):\n",
    "    print(f\"\\nSequence {i+1}:\")\n",
    "    print(\"Input:\")\n",
    "    print(\"Time    Temperature  Humidity\")\n",
    "    for j in range(lookback):\n",
    "        print(f\"t-{lookback-j}    {X[i][j][0]:.1f}°C        {X[i][j][1]}%\")\n",
    "    print(f\"Target: {y[i]}°C\")"
   ]
  },
  {
   "cell_type": "markdown",
   "id": "4cad19c2-72a5-4ad4-9c21-88acfc46ecc9",
   "metadata": {},
   "source": [
    "## How Things are Done\n",
    "\n",
    "Looking at our example, with `lookback=3`, the first three target values (24, 23, 26) won't be used as targets because they correspond to time points where we don't have enough history to make a prediction.\n",
    "\n",
    "Let me show this visually with the data:\n",
    "\n",
    "```python\n",
    "data = pd.DataFrame({\n",
    "    'temperature': [25, 24, 23, 26, 27, 28, 25, 24, 23, 22],\n",
    "    'humidity':    [60, 65, 70, 63, 58, 55, 57, 62, 68, 71],\n",
    "    'target_temp': [24, 23, 26, 27, 28, 25, 24, 23, 22, 21]\n",
    "})\n",
    "\n",
    "# With lookback=3:\n",
    "\n",
    "# First possible prediction:\n",
    "# Input: uses rows 0,1,2 (three timesteps)\n",
    "X[0] = [\n",
    "    [25, 60],  # t-3\n",
    "    [24, 65],  # t-2\n",
    "    [23, 70]   # t-1\n",
    "]\n",
    "y[0] = 27     # row 3's target_temp\n",
    "\n",
    "# Second possible prediction:\n",
    "X[1] = [\n",
    "    [24, 65],  # t-3\n",
    "    [23, 70],  # t-2\n",
    "    [26, 63]   # t-1\n",
    "]\n",
    "y[1] = 28     # row 4's target_temp\n",
    "\n",
    "```\n",
    "So we can see:\n",
    "\n",
    "  - target_temp values [24, 23, 26] aren't used as targets\n",
    "  - First actual target used is 27 (row 3's target_temp)\n",
    "  - This ensures we always have 3 complete timesteps of history before making a prediction\n",
    "\n",
    "This is why our effective training data size will be smaller than our original dataset by the lookback period."
   ]
  },
  {
   "cell_type": "markdown",
   "id": "144d5e95-f1fa-4930-bd90-54d97d21b413",
   "metadata": {},
   "source": [
    "## Understand Size\n",
    "\n",
    "let's understand the train/test split sizing with lookback:"
   ]
  },
  {
   "cell_type": "code",
   "execution_count": 14,
   "id": "05f542d6-563d-4e97-b5cc-8868e3664fb6",
   "metadata": {},
   "outputs": [
    {
     "name": "stdout",
     "output_type": "stream",
     "text": [
      "Original data length: 10\n",
      "After sequencing, length: 7\n"
     ]
    }
   ],
   "source": [
    "# Sample data\n",
    "data = pd.DataFrame({\n",
    "    'temperature': [25, 24, 23, 26, 27, 28, 25, 24, 23, 22],\n",
    "    'humidity': [60, 65, 70, 63, 58, 55, 57, 62, 68, 71],\n",
    "    'target_temp': [24, 23, 26, 27, 28, 25, 24, 23, 22, 21]\n",
    "})\n",
    "\n",
    "# Original data length = 10\n",
    "print(f\"Original data length: {len(data)}\")\n",
    "\n",
    "lookback = 3\n",
    "# After creating sequences, length will be (10 - 3) = 7\n",
    "sequence_length = len(data) - lookback\n",
    "print(f\"After sequencing, length: {sequence_length}\")\n",
    "\n",
    "# If we do 80-20 split on sequences\n",
    "train_size = int(sequence_length * 0.8)  # 5 sequences for training\n",
    "test_size = sequence_length - train_size  # 2 sequences for testing\n"
   ]
  },
  {
   "cell_type": "markdown",
   "id": "31387f23-74c0-4527-a342-defb218dd5f4",
   "metadata": {},
   "source": [
    "### Why X_train is 3D:\n",
    "\n",
    "  1. **First dimension (samples)**: Number of sequences\n",
    "  2. **Second dimension (timesteps)**: Lookback period\n",
    "  3. **Third dimension (features)**: Number of features\n",
    "\n",
    "```python\n",
    "# Shape explanation\n",
    "X_train shape: (5, 3, 2)\n",
    "  # 5 = number of training sequences\n",
    "  # 3 = lookback period (timesteps)\n",
    "  # 2 = number of features (temperature, humidity)\n",
    "```"
   ]
  }
 ],
 "metadata": {
  "kernelspec": {
   "display_name": "TF-GPU:2.16",
   "language": "python",
   "name": "tf-gpu"
  },
  "language_info": {
   "codemirror_mode": {
    "name": "ipython",
    "version": 3
   },
   "file_extension": ".py",
   "mimetype": "text/x-python",
   "name": "python",
   "nbconvert_exporter": "python",
   "pygments_lexer": "ipython3",
   "version": "3.11.0"
  }
 },
 "nbformat": 4,
 "nbformat_minor": 5
}
