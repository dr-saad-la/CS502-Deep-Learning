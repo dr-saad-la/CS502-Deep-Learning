{
 "cells": [
  {
   "cell_type": "markdown",
   "id": "20e0795a-df40-4ce8-bd89-b20786d17176",
   "metadata": {},
   "source": [
    "# Comprehensive Guide to Recurrent Neural Networks (RNNs)"
   ]
  },
  {
   "cell_type": "markdown",
   "id": "687f0f23-2f60-40b1-b821-a219176f3ce8",
   "metadata": {},
   "source": [
    "## Table of Contents\n",
    "1. [Introduction to RNNs](#introduction)\n",
    "2. [Basic RNN Architecture](#architecture)\n",
    "3. [Mathematical Foundations](#math)\n",
    "4. [Forward Propagation in RNNs](#forward-prop)\n",
    "5. [Backpropagation Through Time (BPTT)](#bptt)\n",
    "6. [Numerical Example](#example)\n",
    "7. [Common Challenges](#challenges)\n",
    "8. [Variants and Solutions](#variants)"
   ]
  },
  {
   "cell_type": "markdown",
   "id": "93d3b796-dc19-45e3-bfa4-debf321dfb5d",
   "metadata": {},
   "source": [
    "## 1. Introduction to RNNs\n",
    "\n",
    "Recurrent Neural Networks (RNNs) are designed to work with sequential data, where the order of inputs matters. Unlike feedforward networks, RNNs maintain an internal state (memory) that gets updated as they process a sequence.\n",
    "\n",
    "Key Applications:\n",
    "- Natural Language Processing\n",
    "- Time Series Prediction\n",
    "- Speech Recognition\n",
    "- Audio Generation\n",
    "- Video Processing"
   ]
  },
  {
   "cell_type": "code",
   "execution_count": 2,
   "id": "26e90737-de12-498a-9d44-48cd396bb22c",
   "metadata": {},
   "outputs": [],
   "source": [
    "import numpy as np\n",
    "%load_ext nb_js_diagrammers"
   ]
  },
  {
   "cell_type": "markdown",
   "id": "d55edebc-c41d-4d2b-b51d-328388044626",
   "metadata": {},
   "source": [
    "## 2. Basic RNN Architecture"
   ]
  },
  {
   "cell_type": "code",
   "execution_count": 2,
   "id": "1fd17b68-9556-4ae3-8ce0-838161d86300",
   "metadata": {},
   "outputs": [
    {
     "data": {
      "text/html": [
       "<iframe srcdoc=\"&lt;html&gt;\n",
       "    &lt;body&gt;\n",
       "        &lt;script src=&quot;https://cdn.jsdelivr.net/npm/mermaid/dist/mermaid.min.js&quot;&gt;&lt;/script&gt;\n",
       "        &lt;script&gt;\n",
       "            mermaid.initialize({ startOnLoad: true });\n",
       "        &lt;/script&gt;\n",
       " \n",
       "        &lt;div class=&quot;mermaid&quot;&gt;\n",
       "            graph LR\n",
       "    X[Input x_t] --&gt; H[Hidden State h_t]\n",
       "    H_prev[Previous State h_t-1] --&gt; H\n",
       "    H --&gt; Y[Output y_t]\n",
       "    H --&gt; H_next[Next State h_t+1]\n",
       "    \n",
       "    style X fill:#f9f,stroke:#333,stroke-width:2px\n",
       "    style H fill:#bbf,stroke:#333,stroke-width:2px\n",
       "    style Y fill:#bfb,stroke:#333,stroke-width:2px\n",
       "    style H_prev fill:#bbf,stroke:#333,stroke-width:2px\n",
       "    style H_next fill:#bbf,stroke:#333,stroke-width:2px\n",
       "        &lt;/div&gt;\n",
       " \n",
       "    &lt;/body&gt;\n",
       "&lt;/html&gt;\n",
       "\" width=\"100%\" height=\"300\"style=\"border:none !important;\" \"allowfullscreen\" \"webkitallowfullscreen\" \"mozallowfullscreen\"></iframe>"
      ],
      "text/plain": [
       "<nb_js_diagrammers.magics.JSDiagram at 0x1113b52d0>"
      ]
     },
     "execution_count": 2,
     "metadata": {},
     "output_type": "execute_result"
    }
   ],
   "source": [
    "%%mermaid_magic\n",
    "graph LR\n",
    "    X[Input x_t] --> H[Hidden State h_t]\n",
    "    H_prev[Previous State h_t-1] --> H\n",
    "    H --> Y[Output y_t]\n",
    "    H --> H_next[Next State h_t+1]\n",
    "    \n",
    "    style X fill:#f9f,stroke:#333,stroke-width:2px\n",
    "    style H fill:#bbf,stroke:#333,stroke-width:2px\n",
    "    style Y fill:#bfb,stroke:#333,stroke-width:2px\n",
    "    style H_prev fill:#bbf,stroke:#333,stroke-width:2px\n",
    "    style H_next fill:#bbf,stroke:#333,stroke-width:2px"
   ]
  },
  {
   "cell_type": "markdown",
   "id": "6a335dbf-f480-4b50-8e22-f225f2f8b4d7",
   "metadata": {},
   "source": [
    "- **The RNN processes input sequences one element at a time:**\n",
    "\n",
    "    1. Takes current input (x_t)\n",
    "    2. Combines it with previous hidden state (h_t-1)\n",
    "    3. Produces current hidden state (h_t)\n",
    "    4. Generates output (y_t)"
   ]
  },
  {
   "cell_type": "markdown",
   "id": "5f3b961d-9be5-4ab0-889f-9d5e92e972d0",
   "metadata": {},
   "source": [
    "## 3. Mathematical Foundations\n",
    "\n",
    "### Core Equations:\n",
    "\n",
    "\n",
    "1. **Hidden State Update:**\n",
    "\n",
    "\n",
    "$$h_t = tanh(W_{hh} \\times h_{t-1} + W_{xh} \\times x_t + b_h)$$\n",
    "\n",
    "\n",
    "2. **Output Calculation:**\n",
    "\n",
    "\n",
    "$$y_t = W_{hy} * h_t + b_y$$\n",
    "\n",
    "\n",
    "Where:\n",
    "\n",
    "- $W_{hh}$: Hidden-to-hidden weights\n",
    "- $W_{xh}$: Input-to-hidden weights\n",
    "- $W_{hy}$: Hidden-to-output weights\n",
    "- $b_h$, $b_y$: Bias terms\n",
    "- $tanh$: Hyperbolic tangent activation function"
   ]
  },
  {
   "cell_type": "markdown",
   "id": "3c81129a-076c-43ba-9d0b-846f6645f8f4",
   "metadata": {},
   "source": [
    "### Unrolled Network Visualization"
   ]
  },
  {
   "cell_type": "code",
   "execution_count": 3,
   "id": "4a9211c1-aa73-46e1-9175-1d2981edd152",
   "metadata": {},
   "outputs": [
    {
     "data": {
      "text/html": [
       "<iframe srcdoc=\"&lt;html&gt;\n",
       "    &lt;body&gt;\n",
       "        &lt;script src=&quot;https://cdn.jsdelivr.net/npm/mermaid/dist/mermaid.min.js&quot;&gt;&lt;/script&gt;\n",
       "        &lt;script&gt;\n",
       "            mermaid.initialize({ startOnLoad: true });\n",
       "        &lt;/script&gt;\n",
       " \n",
       "        &lt;div class=&quot;mermaid&quot;&gt;\n",
       "            graph LR\n",
       "    subgraph t-1\n",
       "        X1[x_t-1] --&gt; H1[h_t-1]\n",
       "        H1 --&gt; Y1[y_t-1]\n",
       "    end\n",
       "    \n",
       "    subgraph t\n",
       "        X2[x_t] --&gt; H2[h_t]\n",
       "        H2 --&gt; Y2[y_t]\n",
       "    end\n",
       "    \n",
       "    subgraph t+1\n",
       "        X3[x_t+1] --&gt; H3[h_t+1]\n",
       "        H3 --&gt; Y3[y_t+1]\n",
       "    end\n",
       "    \n",
       "    H1 --&gt; H2\n",
       "    H2 --&gt; H3\n",
       "    \n",
       "    style X1 fill:#f9f,stroke:#333,stroke-width:2px\n",
       "    style X2 fill:#f9f,stroke:#333,stroke-width:2px\n",
       "    style X3 fill:#f9f,stroke:#333,stroke-width:2px\n",
       "    style H1 fill:#bbf,stroke:#333,stroke-width:2px\n",
       "    style H2 fill:#bbf,stroke:#333,stroke-width:2px\n",
       "    style H3 fill:#bbf,stroke:#333,stroke-width:2px\n",
       "    style Y1 fill:#bfb,stroke:#333,stroke-width:2px\n",
       "    style Y2 fill:#bfb,stroke:#333,stroke-width:2px\n",
       "    style Y3 fill:#bfb,stroke:#333,stroke-width:2px\n",
       "        &lt;/div&gt;\n",
       " \n",
       "    &lt;/body&gt;\n",
       "&lt;/html&gt;\n",
       "\" width=\"100%\" height=\"300\"style=\"border:none !important;\" \"allowfullscreen\" \"webkitallowfullscreen\" \"mozallowfullscreen\"></iframe>"
      ],
      "text/plain": [
       "<nb_js_diagrammers.magics.JSDiagram at 0x11177e510>"
      ]
     },
     "execution_count": 3,
     "metadata": {},
     "output_type": "execute_result"
    }
   ],
   "source": [
    "%%mermaid_magic\n",
    "graph LR\n",
    "    subgraph t-1\n",
    "        X1[x_t-1] --> H1[h_t-1]\n",
    "        H1 --> Y1[y_t-1]\n",
    "    end\n",
    "    \n",
    "    subgraph t\n",
    "        X2[x_t] --> H2[h_t]\n",
    "        H2 --> Y2[y_t]\n",
    "    end\n",
    "    \n",
    "    subgraph t+1\n",
    "        X3[x_t+1] --> H3[h_t+1]\n",
    "        H3 --> Y3[y_t+1]\n",
    "    end\n",
    "    \n",
    "    H1 --> H2\n",
    "    H2 --> H3\n",
    "    \n",
    "    style X1 fill:#f9f,stroke:#333,stroke-width:2px\n",
    "    style X2 fill:#f9f,stroke:#333,stroke-width:2px\n",
    "    style X3 fill:#f9f,stroke:#333,stroke-width:2px\n",
    "    style H1 fill:#bbf,stroke:#333,stroke-width:2px\n",
    "    style H2 fill:#bbf,stroke:#333,stroke-width:2px\n",
    "    style H3 fill:#bbf,stroke:#333,stroke-width:2px\n",
    "    style Y1 fill:#bfb,stroke:#333,stroke-width:2px\n",
    "    style Y2 fill:#bfb,stroke:#333,stroke-width:2px\n",
    "    style Y3 fill:#bfb,stroke:#333,stroke-width:2px"
   ]
  },
  {
   "cell_type": "markdown",
   "id": "b20469b4-a3a9-4070-96b5-ae47869617aa",
   "metadata": {},
   "source": [
    "## 4. Forward Propagation in RNNs\n",
    "\n",
    "The forward pass involves:\n",
    "\n",
    "1. Initialize hidden state (usually zeros)\n",
    "2. For each time step t:\n",
    "   - Get input x_t\n",
    "   - Calculate new hidden state h_t\n",
    "   - Generate output y_t\n",
    "3. Pass hidden state to next time step"
   ]
  },
  {
   "cell_type": "code",
   "execution_count": 4,
   "id": "7610286f-75b5-4758-a0f2-f43d44594ad4",
   "metadata": {},
   "outputs": [
    {
     "data": {
      "text/html": [
       "<iframe srcdoc=\"&lt;html&gt;\n",
       "    &lt;body&gt;\n",
       "        &lt;script src=&quot;https://cdn.jsdelivr.net/npm/mermaid/dist/mermaid.min.js&quot;&gt;&lt;/script&gt;\n",
       "        &lt;script&gt;\n",
       "            mermaid.initialize({ startOnLoad: true });\n",
       "        &lt;/script&gt;\n",
       " \n",
       "        &lt;div class=&quot;mermaid&quot;&gt;\n",
       "            flowchart TD\n",
       "    A[Initialize h_0] --&gt; B[Get input x_t]\n",
       "    B --&gt; C[Calculate h_t]\n",
       "    C --&gt; D[Generate y_t]\n",
       "    D --&gt; E{More timesteps?}\n",
       "    E --&gt;|Yes| B\n",
       "    E --&gt;|No| F[End]\n",
       "        &lt;/div&gt;\n",
       " \n",
       "    &lt;/body&gt;\n",
       "&lt;/html&gt;\n",
       "\" width=\"100%\" height=\"300\"style=\"border:none !important;\" \"allowfullscreen\" \"webkitallowfullscreen\" \"mozallowfullscreen\"></iframe>"
      ],
      "text/plain": [
       "<nb_js_diagrammers.magics.JSDiagram at 0x11177fe90>"
      ]
     },
     "execution_count": 4,
     "metadata": {},
     "output_type": "execute_result"
    }
   ],
   "source": [
    "%%mermaid_magic\n",
    "flowchart TD\n",
    "    A[Initialize h_0] --> B[Get input x_t]\n",
    "    B --> C[Calculate h_t]\n",
    "    C --> D[Generate y_t]\n",
    "    D --> E{More timesteps?}\n",
    "    E -->|Yes| B\n",
    "    E -->|No| F[End]"
   ]
  },
  {
   "cell_type": "markdown",
   "id": "e3737aa0-c60b-43cd-8a9a-07c26758961b",
   "metadata": {},
   "source": [
    "## 5. Backpropagation Through Time (BPTT)\n",
    "\n",
    "\n",
    "- **BPTT is the training algorithm for RNNs:**\n",
    "    1. Run forward pass for entire sequence\n",
    "    2. Calculate loss at each time step\n",
    "    3. Backpropagate error through time\n",
    "    4. Update weights\n",
    "\n",
    "Gradient calculation involves chain rule through time:\n",
    "\n",
    "$$\\frac{\\partial L}{\\partial W} = \\sum_t \\left(\\frac{\\partial L_t}{\\partial y_t} \\cdot \\frac{\\partial y_t}{\\partial h_t} \\cdot \\frac{\\partial h_t}{\\partial W}\\right)$$\n",
    "\n",
    "\n",
    "## 6. Numerical Example <a name=\"example\"></a>\n",
    "\n",
    "Let's work through a simple example with:\n",
    "- Input dimension: 2\n",
    "- Hidden state dimension: 3\n",
    "- Output dimension: 1\n",
    "- Sequence length: 2"
   ]
  },
  {
   "cell_type": "markdown",
   "id": "ac1a18a9-f15b-4553-89c2-1c6694c3737b",
   "metadata": {},
   "source": [
    "## Initial parameters:"
   ]
  },
  {
   "cell_type": "code",
   "execution_count": 3,
   "id": "3ee24206-ae5a-49e5-badc-ad8aa48a6a0b",
   "metadata": {},
   "outputs": [],
   "source": [
    "W_xh = np.array([[0.1, 0.2, 0.3],\n",
    "                 [0.4, 0.5, 0.6]])\n",
    "\n",
    "W_hh = np.array([[0.7, 0.8, 0.9],\n",
    "                 [0.1, 0.2, 0.3],\n",
    "                 [0.4, 0.5, 0.6]])\n",
    "\n",
    "W_hy = np.array([[0.1, 0.2, 0.3]])\n",
    "\n",
    "b_h = np.array([0.1, 0.1, 0.1])\n",
    "b_y = np.array([0.1])"
   ]
  },
  {
   "cell_type": "markdown",
   "id": "7477d3ef-0a39-4bed-966d-a0c2c12ae557",
   "metadata": {},
   "source": [
    "## Input sequence:"
   ]
  },
  {
   "cell_type": "code",
   "execution_count": 6,
   "id": "cf6dea13-9ab1-4764-92ce-6d78633ccfd9",
   "metadata": {},
   "outputs": [
    {
     "name": "stdout",
     "output_type": "stream",
     "text": [
      "[[1 2]\n",
      " [3 4]]\n"
     ]
    }
   ],
   "source": [
    "x = np.array([[1, 2],    # x_1\n",
    "              [3, 4]])   # x_2\n",
    "print(x)"
   ]
  },
  {
   "cell_type": "markdown",
   "id": "d4cc22ea-d453-4d2b-b90a-094dcab6beb7",
   "metadata": {},
   "source": [
    "## Forward pass calculations:"
   ]
  },
  {
   "cell_type": "code",
   "execution_count": 8,
   "id": "15244afc-0173-49c4-944b-81d3a88c1bdf",
   "metadata": {},
   "outputs": [],
   "source": [
    "# Time step 1\n",
    "h_0 = np.zeros(3)\n",
    "h_1 = np.tanh(np.dot(x[0], W_xh) + np.dot(h_0, W_hh) + b_h)\n",
    "y_1 = np.dot(h_1, W_hy.T) + b_y\n",
    "\n",
    "# Time step 2\n",
    "h_2 = np.tanh(np.dot(x[1], W_xh) + np.dot(h_1, W_hh) + b_h)\n",
    "y_2 = np.dot(h_2, W_hy.T) + b_y"
   ]
  },
  {
   "cell_type": "markdown",
   "id": "f218619d-2b4a-4464-8443-0bd9f69d8c60",
   "metadata": {},
   "source": [
    "## 7. Common Challenges <a name=\"challenges\"></a>"
   ]
  },
  {
   "cell_type": "markdown",
   "id": "c2e674d5-a190-4e84-8517-d12e03a4427a",
   "metadata": {},
   "source": [
    "### 1. Vanishing Gradients"
   ]
  },
  {
   "cell_type": "code",
   "execution_count": 10,
   "id": "c1255ec7-fd31-4bca-b002-dc58f25c49f7",
   "metadata": {},
   "outputs": [
    {
     "data": {
      "text/html": [
       "<iframe srcdoc=\"&lt;html&gt;\n",
       "    &lt;body&gt;\n",
       "        &lt;script src=&quot;https://cdn.jsdelivr.net/npm/mermaid/dist/mermaid.min.js&quot;&gt;&lt;/script&gt;\n",
       "        &lt;script&gt;\n",
       "            mermaid.initialize({ startOnLoad: true });\n",
       "        &lt;/script&gt;\n",
       " \n",
       "        &lt;div class=&quot;mermaid&quot;&gt;\n",
       "            graph LR\n",
       "    A[Earlier States] --&gt;|Weak Gradient| B[Later States]\n",
       "    style A fill:#f99,stroke:#333,stroke-width:2px\n",
       "    style B fill:#9f9,stroke:#333,stroke-width:2px\n",
       "        &lt;/div&gt;\n",
       " \n",
       "    &lt;/body&gt;\n",
       "&lt;/html&gt;\n",
       "\" width=\"100%\" height=\"100\"style=\"border:none !important;\" \"allowfullscreen\" \"webkitallowfullscreen\" \"mozallowfullscreen\"></iframe>"
      ],
      "text/plain": [
       "<nb_js_diagrammers.magics.JSDiagram at 0x10f9a3710>"
      ]
     },
     "execution_count": 10,
     "metadata": {},
     "output_type": "execute_result"
    }
   ],
   "source": [
    "%%mermaid_magic -h 100\n",
    "graph LR\n",
    "    A[Earlier States] -->|Weak Gradient| B[Later States]\n",
    "    style A fill:#f99,stroke:#333,stroke-width:2px\n",
    "    style B fill:#9f9,stroke:#333,stroke-width:2px"
   ]
  },
  {
   "cell_type": "markdown",
   "id": "45b9ddbd-6410-4201-8ac8-e5d5d80ac6e6",
   "metadata": {},
   "source": [
    "### 2. Exploding Gradients"
   ]
  },
  {
   "cell_type": "code",
   "execution_count": 11,
   "id": "da20a80b-bb41-4c9f-b959-f717bb585996",
   "metadata": {},
   "outputs": [
    {
     "data": {
      "text/html": [
       "<iframe srcdoc=\"&lt;html&gt;\n",
       "    &lt;body&gt;\n",
       "        &lt;script src=&quot;https://cdn.jsdelivr.net/npm/mermaid/dist/mermaid.min.js&quot;&gt;&lt;/script&gt;\n",
       "        &lt;script&gt;\n",
       "            mermaid.initialize({ startOnLoad: true });\n",
       "        &lt;/script&gt;\n",
       " \n",
       "        &lt;div class=&quot;mermaid&quot;&gt;\n",
       "            graph LR\n",
       "    A[Earlier States] --&gt;|Extreme Gradient| B[Later States]\n",
       "    style A fill:#99f,stroke:#333,stroke-width:2px\n",
       "    style B fill:#f99,stroke:#333,stroke-width:2px\n",
       "        &lt;/div&gt;\n",
       " \n",
       "    &lt;/body&gt;\n",
       "&lt;/html&gt;\n",
       "\" width=\"100%\" height=\"100\"style=\"border:none !important;\" \"allowfullscreen\" \"webkitallowfullscreen\" \"mozallowfullscreen\"></iframe>"
      ],
      "text/plain": [
       "<nb_js_diagrammers.magics.JSDiagram at 0x10ffa8a90>"
      ]
     },
     "execution_count": 11,
     "metadata": {},
     "output_type": "execute_result"
    }
   ],
   "source": [
    "%%mermaid_magic -h 100\n",
    "graph LR\n",
    "    A[Earlier States] -->|Extreme Gradient| B[Later States]\n",
    "    style A fill:#99f,stroke:#333,stroke-width:2px\n",
    "    style B fill:#f99,stroke:#333,stroke-width:2px"
   ]
  },
  {
   "cell_type": "markdown",
   "id": "9b916ad3-f5cb-4110-8d12-e4910812fb42",
   "metadata": {},
   "source": [
    "### 3. Long-term Dependencies\n",
    "### 4. Training Instability"
   ]
  },
  {
   "cell_type": "markdown",
   "id": "4f20bc25-d1db-40f5-8f1b-789a076f02a6",
   "metadata": {},
   "source": [
    "## 8. Variants and Solutions <a name=\"variants\"></a>"
   ]
  },
  {
   "cell_type": "markdown",
   "id": "c91fb5bd-3dbc-4955-b33b-008e8cd3dfc7",
   "metadata": {},
   "source": [
    "### LSTM (Long Short-Term Memory)"
   ]
  },
  {
   "cell_type": "code",
   "execution_count": 13,
   "id": "24e8e304-1052-4f09-90a3-833e300305e1",
   "metadata": {},
   "outputs": [
    {
     "data": {
      "text/html": [
       "<iframe srcdoc=\"&lt;html&gt;\n",
       "    &lt;body&gt;\n",
       "        &lt;script src=&quot;https://cdn.jsdelivr.net/npm/mermaid/dist/mermaid.min.js&quot;&gt;&lt;/script&gt;\n",
       "        &lt;script&gt;\n",
       "            mermaid.initialize({ startOnLoad: true });\n",
       "        &lt;/script&gt;\n",
       " \n",
       "        &lt;div class=&quot;mermaid&quot;&gt;\n",
       "            graph TD\n",
       "    I[Input Gate] --&gt; C[Cell State]\n",
       "    F[Forget Gate] --&gt; C\n",
       "    O[Output Gate] --&gt; H[Hidden State]\n",
       "    C --&gt; H\n",
       "        &lt;/div&gt;\n",
       " \n",
       "    &lt;/body&gt;\n",
       "&lt;/html&gt;\n",
       "\" width=\"100%\" height=\"300\"style=\"border:none !important;\" \"allowfullscreen\" \"webkitallowfullscreen\" \"mozallowfullscreen\"></iframe>"
      ],
      "text/plain": [
       "<nb_js_diagrammers.magics.JSDiagram at 0x10ff64ed0>"
      ]
     },
     "execution_count": 13,
     "metadata": {},
     "output_type": "execute_result"
    }
   ],
   "source": [
    "%%mermaid_magic -h 300\n",
    "graph TD\n",
    "    I[Input Gate] --> C[Cell State]\n",
    "    F[Forget Gate] --> C\n",
    "    O[Output Gate] --> H[Hidden State]\n",
    "    C --> H"
   ]
  },
  {
   "cell_type": "markdown",
   "id": "9c57bf10-176f-410d-b772-330f2872e73f",
   "metadata": {},
   "source": [
    "### GRU (Gated Recurrent Unit)"
   ]
  },
  {
   "cell_type": "code",
   "execution_count": 14,
   "id": "2f7b8a46-7d85-44e6-87e3-6af16f474cf8",
   "metadata": {},
   "outputs": [
    {
     "data": {
      "text/html": [
       "<iframe srcdoc=\"&lt;html&gt;\n",
       "    &lt;body&gt;\n",
       "        &lt;script src=&quot;https://cdn.jsdelivr.net/npm/mermaid/dist/mermaid.min.js&quot;&gt;&lt;/script&gt;\n",
       "        &lt;script&gt;\n",
       "            mermaid.initialize({ startOnLoad: true });\n",
       "        &lt;/script&gt;\n",
       " \n",
       "        &lt;div class=&quot;mermaid&quot;&gt;\n",
       "            graph TD\n",
       "    R[Reset Gate] --&gt; H[Hidden State]\n",
       "    U[Update Gate] --&gt; H\n",
       "        &lt;/div&gt;\n",
       " \n",
       "    &lt;/body&gt;\n",
       "&lt;/html&gt;\n",
       "\" width=\"100%\" height=\"200\"style=\"border:none !important;\" \"allowfullscreen\" \"webkitallowfullscreen\" \"mozallowfullscreen\"></iframe>"
      ],
      "text/plain": [
       "<nb_js_diagrammers.magics.JSDiagram at 0x10ff668d0>"
      ]
     },
     "execution_count": 14,
     "metadata": {},
     "output_type": "execute_result"
    }
   ],
   "source": [
    "%%mermaid_magic -h 200\n",
    "graph TD\n",
    "    R[Reset Gate] --> H[Hidden State]\n",
    "    U[Update Gate] --> H"
   ]
  },
  {
   "cell_type": "markdown",
   "id": "08e3bd42-9729-40b7-a8bc-f09abf309078",
   "metadata": {},
   "source": [
    "### Key improvements:\n",
    "\n",
    "- Better gradient flow\n",
    "- Controlled information flow\n",
    "- Improved long-term memory\n",
    "- More stable training"
   ]
  },
  {
   "cell_type": "code",
   "execution_count": null,
   "id": "92a4760e-25fa-4a0c-ba6e-41bb094a3a71",
   "metadata": {},
   "outputs": [],
   "source": []
  }
 ],
 "metadata": {
  "kernelspec": {
   "display_name": "TF-GPU:2.16",
   "language": "python",
   "name": "tf-gpu"
  },
  "language_info": {
   "codemirror_mode": {
    "name": "ipython",
    "version": 3
   },
   "file_extension": ".py",
   "mimetype": "text/x-python",
   "name": "python",
   "nbconvert_exporter": "python",
   "pygments_lexer": "ipython3",
   "version": "3.11.0"
  }
 },
 "nbformat": 4,
 "nbformat_minor": 5
}
