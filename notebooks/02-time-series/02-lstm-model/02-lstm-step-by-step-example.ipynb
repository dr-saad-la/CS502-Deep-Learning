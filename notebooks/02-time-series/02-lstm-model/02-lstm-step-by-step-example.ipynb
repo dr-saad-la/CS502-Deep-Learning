{
 "cells": [
  {
   "cell_type": "code",
   "execution_count": 1,
   "id": "34a8c335-9e39-48a7-9b21-cafe19e090bb",
   "metadata": {
    "tags": []
   },
   "outputs": [],
   "source": [
    "import numpy as np \n",
    "from scipy.special import expit # sigmoid"
   ]
  },
  {
   "cell_type": "code",
   "execution_count": 2,
   "id": "ffe24e3e-ac04-4593-9ebb-010dbe3f0c06",
   "metadata": {
    "tags": []
   },
   "outputs": [],
   "source": [
    "# LSTM Step By Step Example\n",
    "# 1. Define the activation functions\n",
    "#.   1.1. Sigmoid (expit(x) = 1/(1+exp(-x)))\n",
    "#    1.2. Tanh.  ()\n"
   ]
  },
  {
   "cell_type": "code",
   "execution_count": 3,
   "id": "b9965824-b5bb-4752-a0ae-6f6a93faf9d5",
   "metadata": {
    "tags": []
   },
   "outputs": [
    {
     "name": "stdout",
     "output_type": "stream",
     "text": [
      "Sigmoid: [0.11920292 0.26894142 0.5        0.73105858 0.88079708]\n",
      "Tanh: [-0.96402758 -0.76159416  0.          0.76159416  0.96402758]\n"
     ]
    }
   ],
   "source": [
    "# Sigmoid function\n",
    "def sigmoid(x):\n",
    "    return 1 / (1 + np.exp(-x))\n",
    "\n",
    "# Hyperbolic tangent (tanh) function\n",
    "x = np.array([-2, -1, 0, 1, 2])\n",
    "sigmoid_values = sigmoid(x)\n",
    "tanh_values = np.tanh(x)\n",
    "\n",
    "print(\"Sigmoid:\", sigmoid_values)\n",
    "print(\"Tanh:\", tanh_values)"
   ]
  },
  {
   "cell_type": "code",
   "execution_count": 4,
   "id": "47997748-acda-4057-9ce6-705f91e11c4b",
   "metadata": {
    "tags": []
   },
   "outputs": [
    {
     "name": "stdout",
     "output_type": "stream",
     "text": [
      "Sigmoid (using SciPy): [0.11920292 0.26894142 0.5        0.73105858 0.88079708]\n"
     ]
    }
   ],
   "source": [
    "x = np.array([-2, -1, 0, 1, 2])\n",
    "sigmoid_values = expit(x)  # Equivalent to sigmoid(x)\n",
    "\n",
    "print(\"Sigmoid (using SciPy):\", sigmoid_values)"
   ]
  },
  {
   "cell_type": "code",
   "execution_count": 6,
   "id": "c91a4da6-ddf3-4485-8fee-3ecfb5226d4f",
   "metadata": {
    "tags": []
   },
   "outputs": [],
   "source": [
    "# 2. Set the input size, the hidden size the scale factor\n",
    "input_size = 3\n",
    "hidden_size = 2\n",
    "scale=0.01"
   ]
  },
  {
   "cell_type": "code",
   "execution_count": 8,
   "id": "c34ea82a-b128-4e0a-9787-6202d282b74a",
   "metadata": {
    "tags": []
   },
   "outputs": [
    {
     "name": "stdout",
     "output_type": "stream",
     "text": [
      "************************************************************************\n",
      "The forget Gate:\n",
      "\n",
      "The forget gate:\n",
      "The weights:\n",
      "[[-0.01175448 -0.00383148 -0.01471366 -0.01800569  0.001301  ]\n",
      " [ 0.01595619  0.00993161 -0.02363707 -0.00479592 -0.01650382]]\n",
      "The bias:\n",
      "[[0.]\n",
      " [0.]]\n",
      "The input gate:\n",
      "The weights:\n",
      "[[-0.0054349   0.00779611 -0.00502609  0.0028589   0.02703237]\n",
      " [-0.00074517 -0.01370103  0.00358587  0.0059805  -0.00306799]]\n",
      "The bias:\n",
      "[[0.]\n",
      " [0.]]\n",
      "The candidate gate:\n",
      "The weights:\n",
      "[[ 0.00762969 -0.00998878  0.01009264 -0.00247785 -0.02583517]\n",
      " [ 0.00757221 -0.01776461 -0.00779696 -0.00918535 -0.00394989]]\n",
      "The bias:\n",
      "[[0.]\n",
      " [0.]]\n",
      "The output gate:\n",
      "The weights:\n",
      "[[ 0.00248006  0.00298038  0.00283817 -0.00471223  0.00952028]\n",
      " [-0.00638603 -0.01260901 -0.00558495  0.00172743 -0.00055948]]\n",
      "The bias:\n",
      "[[0.]\n",
      " [0.]]\n",
      "************************************************************************\n"
     ]
    }
   ],
   "source": [
    "# 2. Initialize weights and biases\n",
    "np.random.seed(1010)\n",
    "\n",
    "\n",
    "# Forget gate weights and bias\n",
    "Wf = np.random.randn(hidden_size, input_size + hidden_size) * scale\n",
    "bf = np.zeros((hidden_size, 1))\n",
    "\n",
    "# Input gate weights and bias\n",
    "Wi = np.random.randn(hidden_size, input_size + hidden_size) * scale\n",
    "bi = np.zeros((hidden_size, 1))\n",
    "\n",
    "# Candidate weights and bias\n",
    "Wc = np.random.randn(hidden_size, input_size + hidden_size) * scale\n",
    "bc = np.zeros((hidden_size, 1))\n",
    "\n",
    "# Output gate weights and bias\n",
    "Wo = np.random.randn(hidden_size, input_size + hidden_size) * scale\n",
    "bo = np.zeros((hidden_size, 1))\n",
    "\n",
    "print(\"*\"*72)\n",
    "print(\"The forget Gate:\\n\")\n",
    "print(f\"The forget gate:\\nThe weights:\\n{Wf}\\nThe bias:\\n{bf}\")\n",
    "print(f\"The input gate:\\nThe weights:\\n{Wi}\\nThe bias:\\n{bi}\")\n",
    "print(f\"The candidate gate:\\nThe weights:\\n{Wc}\\nThe bias:\\n{bc}\")\n",
    "print(f\"The output gate:\\nThe weights:\\n{Wo}\\nThe bias:\\n{bo}\")\n",
    "print(\"*\"*72)"
   ]
  },
  {
   "cell_type": "code",
   "execution_count": 9,
   "id": "ac9a9789-7ebf-4049-9f6c-69091d724184",
   "metadata": {
    "tags": []
   },
   "outputs": [
    {
     "name": "stdout",
     "output_type": "stream",
     "text": [
      "The input vector\n",
      " [[0.5]\n",
      " [0.8]\n",
      " [0.2]]\n",
      "The previous hidden state:\n",
      " [[0.3]\n",
      " [0.4]]\n",
      "The previous cell state:\n",
      " [[0.2]\n",
      " [0.3]]\n"
     ]
    }
   ],
   "source": [
    "# Create sample input\n",
    "x_t = np.array([[0.5], [0.8], [0.2]])  # Input vector (3x1)\n",
    "h_prev = np.array([[0.3], [0.4]])      # Previous hidden state (2x1)\n",
    "c_prev = np.array([[0.2], [0.3]])      # Previous cell state (2x1)\n",
    "\n",
    "print(f\"The input vector\\n {x_t}\")\n",
    "print(f\"The previous hidden state:\\n {h_prev}\")\n",
    "print(f\"The previous cell state:\\n {c_prev}\")"
   ]
  },
  {
   "cell_type": "code",
   "execution_count": 10,
   "id": "2fb42539-82a5-4665-b74e-e7084ab83f69",
   "metadata": {
    "tags": []
   },
   "outputs": [
    {
     "name": "stdout",
     "output_type": "stream",
     "text": [
      "The combined input:\n",
      " [[0.3]\n",
      " [0.4]\n",
      " [0.5]\n",
      " [0.8]\n",
      " [0.2]]\n"
     ]
    }
   ],
   "source": [
    "# 4. Combine the inputs\n",
    "combined_input = np.vstack((h_prev, x_t))\n",
    "print(f\"The combined input:\\n {combined_input}\")"
   ]
  },
  {
   "cell_type": "code",
   "execution_count": 11,
   "id": "bd299894-416c-44d8-9d8d-363570f9b674",
   "metadata": {
    "tags": []
   },
   "outputs": [
    {
     "name": "stdout",
     "output_type": "stream",
     "text": [
      "(2, 5)\n",
      "(5, 1)\n",
      "(2, 1)\n",
      "The activated forget gate:\n",
      " [[0.49336036]\n",
      " [0.49745089]]\n"
     ]
    }
   ],
   "source": [
    "# 5. Compute forget gate activation\n",
    "print(Wf.shape)\n",
    "print(combined_input.shape)\n",
    "\n",
    "# compute and then activate the forget gate\n",
    "f_t = expit(np.dot(Wf, combined_input) + bf)\n",
    "\n",
    "print(f_t.shape)\n",
    "print(f\"The activated forget gate:\\n {f_t}\")"
   ]
  },
  {
   "cell_type": "code",
   "execution_count": 12,
   "id": "5bb0bfc5-18fb-492b-a457-b3e4838bfe2e",
   "metadata": {
    "tags": []
   },
   "outputs": [
    {
     "name": "stdout",
     "output_type": "stream",
     "text": [
      "The input gate:\n",
      " [[0.50166712]\n",
      " [0.50006494]]\n",
      "The c_tilde gate:\n",
      " [[-0.00380958]\n",
      " [-0.01686931]]\n"
     ]
    }
   ],
   "source": [
    "# Compute input gate activation and candidate values\n",
    "\n",
    "i_t = sigmoid(np.dot(Wi, combined_input) + bi)\n",
    "c_tilde = np.tanh(np.dot(Wc, combined_input) + bc)\n",
    "print(f\"The input gate:\\n {i_t}\")\n",
    "print(f\"The c_tilde gate:\\n {c_tilde}\")"
   ]
  },
  {
   "cell_type": "code",
   "execution_count": 13,
   "id": "e4a77bee-986e-45c4-bd59-86828ae24d94",
   "metadata": {
    "tags": []
   },
   "outputs": [
    {
     "name": "stdout",
     "output_type": "stream",
     "text": [
      "The output gate:\n",
      " [[0.50037238]\n",
      " [0.49787955]]\n"
     ]
    }
   ],
   "source": [
    "# Compute output gate activation\n",
    "\n",
    "o_t = sigmoid(np.dot(Wo, combined_input) + bo)\n",
    "print(f\"The output gate:\\n {o_t}\")"
   ]
  },
  {
   "cell_type": "code",
   "execution_count": 15,
   "id": "cda3d00e-a6e1-4dcb-b470-9d2aed89d819",
   "metadata": {
    "tags": []
   },
   "outputs": [
    {
     "name": "stdout",
     "output_type": "stream",
     "text": [
      "[[0.09676093]\n",
      " [0.14079951]]\n"
     ]
    }
   ],
   "source": [
    "# Update cell state using forget and input gates\n",
    "#     f_t: Forget gate output\n",
    "#     c_prev: Previous cell state\n",
    "#     i_t: Input gate output\n",
    "#     c_tilde: Candidate values\n",
    "\n",
    "c_t =  f_t * c_prev + i_t * c_tilde\n",
    "print(c_t)"
   ]
  },
  {
   "cell_type": "code",
   "execution_count": 16,
   "id": "45c77d6d-f842-488a-8c3d-f24cf391d5be",
   "metadata": {
    "tags": []
   },
   "outputs": [
    {
     "name": "stdout",
     "output_type": "stream",
     "text": [
      "The hidden state:\n",
      " [[0.04826596]\n",
      " [0.0696416 ]]\n"
     ]
    }
   ],
   "source": [
    "# Compute hidden state\n",
    "h_t = o_t * np.tanh(c_t)\n",
    "print(f\"The hidden state:\\n {h_t}\")"
   ]
  },
  {
   "cell_type": "code",
   "execution_count": null,
   "id": "6ffbcf14-1ddc-435a-a715-741e9b9f32c3",
   "metadata": {},
   "outputs": [],
   "source": []
  }
 ],
 "metadata": {
  "kernelspec": {
   "display_name": "TF-GPU:2.16",
   "language": "python",
   "name": "tf-gpu"
  },
  "language_info": {
   "codemirror_mode": {
    "name": "ipython",
    "version": 3
   },
   "file_extension": ".py",
   "mimetype": "text/x-python",
   "name": "python",
   "nbconvert_exporter": "python",
   "pygments_lexer": "ipython3",
   "version": "3.11.0"
  }
 },
 "nbformat": 4,
 "nbformat_minor": 5
}
