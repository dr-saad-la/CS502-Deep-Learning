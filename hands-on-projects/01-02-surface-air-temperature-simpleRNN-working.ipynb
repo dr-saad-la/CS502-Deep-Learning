{
 "cells": [
  {
   "cell_type": "code",
   "execution_count": null,
   "id": "c920f36b-b018-4cff-9024-a34f837d4dbf",
   "metadata": {
    "tags": []
   },
   "outputs": [],
   "source": [
    "# ========================================================================\n",
    "#    Project: Surface Temperature Mean Daily Minimum\n",
    "#    Author: Dr. Saad Laouadi\n",
    "#\n",
    "#\n",
    "# ========================================================================\n",
    "#  ®Copyright Dr. Saad Laouadi, 2025\n",
    "# ========================================================================"
   ]
  },
  {
   "cell_type": "code",
   "execution_count": null,
   "id": "1f7e00da-dadb-40a5-abff-3398b63fb91a",
   "metadata": {
    "tags": []
   },
   "outputs": [],
   "source": [
    "# Env Setup\n",
    "import numpy as np\n",
    "import pandas as pd\n",
    "import matplotlib.pyplot as plt\n",
    "from sklearn.preprocessing import MinMaxScaler\n",
    "import tensorflow as tf\n",
    "\n",
    "print(\"*\"*52)\n",
    "%reload_ext watermark\n",
    "\n",
    "%watermark -a \"Dr. Saad Laouadi\"\n",
    "%watermark -iv -ud\n",
    "print(\"*\"*52)"
   ]
  },
  {
   "cell_type": "code",
   "execution_count": null,
   "id": "a5001f3d-e96b-4a29-8db9-226c8858ad61",
   "metadata": {
    "tags": []
   },
   "outputs": [],
   "source": [
    "# Create a function that loads the data\n"
   ]
  },
  {
   "cell_type": "code",
   "execution_count": null,
   "id": "4bddaaf2-0b6c-4913-9878-0cf3a4559658",
   "metadata": {
    "tags": []
   },
   "outputs": [],
   "source": [
    "# Create a function that creates sequences\n"
   ]
  },
  {
   "cell_type": "code",
   "execution_count": null,
   "id": "5fdf546e-73e3-4d97-a6d3-f1a835735af5",
   "metadata": {
    "tags": []
   },
   "outputs": [],
   "source": [
    "# define a function that splits the data\n"
   ]
  },
  {
   "cell_type": "code",
   "execution_count": null,
   "id": "1ee5b8de-cae2-4759-b285-645f3e804efa",
   "metadata": {
    "tags": []
   },
   "outputs": [],
   "source": [
    "# Define a functions that normalizes the data\n"
   ]
  },
  {
   "cell_type": "code",
   "execution_count": null,
   "id": "5cf13423-86f9-4d57-bac6-e9e19f5a5056",
   "metadata": {
    "tags": []
   },
   "outputs": [],
   "source": [
    "# Create a function that builds simple RNN model\n",
    "\n"
   ]
  },
  {
   "cell_type": "code",
   "execution_count": null,
   "id": "c0528a1b-96a3-4d37-bc76-f3d413476cfc",
   "metadata": {
    "tags": []
   },
   "outputs": [],
   "source": [
    "# Create a functions that trains the model\n"
   ]
  },
  {
   "cell_type": "code",
   "execution_count": null,
   "id": "c42a9308-b5c4-415a-abd1-ff2271296839",
   "metadata": {
    "tags": []
   },
   "outputs": [],
   "source": [
    "# This plot utility functions is defined for you\n",
    "def plot_training_history(history):\n",
    "    \"\"\"Plot training history.\"\"\"\n",
    "    plt.figure(figsize=(12, 4))\n",
    "    \n",
    "    plt.subplot(1, 2, 1)\n",
    "    plt.plot(history.history['loss'], label='Training Loss')\n",
    "    plt.plot(history.history['val_loss'], label='Validation Loss')\n",
    "    plt.title('Model Loss')\n",
    "    plt.xlabel('Epoch')\n",
    "    plt.ylabel('Loss')\n",
    "    plt.legend()\n",
    "    \n",
    "    plt.subplot(1, 2, 2)\n",
    "    plt.plot(history.history['mean_absolute_error'], label='Training MAE')\n",
    "    plt.plot(history.history['val_mean_absolute_error'], label='Validation MAE')\n",
    "    plt.title('Model MAE')\n",
    "    plt.xlabel('Epoch')\n",
    "    plt.ylabel('MAE')\n",
    "    plt.legend()\n",
    "    \n",
    "    plt.tight_layout()\n",
    "    plt.show()\n",
    "\n",
    "def plot_predictions(actual, predictions, title):\n",
    "    \"\"\"Plot actual vs predicted values.\"\"\"\n",
    "    plt.figure(figsize=(12, 6))\n",
    "    plt.plot(actual, label='Actual')\n",
    "    plt.plot(predictions, label='Predicted')\n",
    "    plt.title(title)\n",
    "    plt.xlabel('Time Step')\n",
    "    plt.ylabel('Temperature')\n",
    "    plt.legend()\n",
    "    plt.grid(True)\n",
    "    plt.show()"
   ]
  },
  {
   "cell_type": "code",
   "execution_count": null,
   "id": "3e2cc3cd-abd9-4dc5-b8f8-0ce990a41549",
   "metadata": {
    "tags": []
   },
   "outputs": [],
   "source": [
    "# Main execution\n",
    "# =============\n",
    "# Load data\n",
    "data_path = \"../datasets/SurfaceAirTemperatureMonthlyMeanDailyMinimum.csv\"\n"
   ]
  },
  {
   "cell_type": "code",
   "execution_count": null,
   "id": "d9b54278-0607-496b-aca0-f3a6e0293d38",
   "metadata": {
    "tags": []
   },
   "outputs": [],
   "source": [
    "# Set the index\n"
   ]
  },
  {
   "cell_type": "code",
   "execution_count": null,
   "id": "9e915341-9fb0-40f4-b250-f2d786c7d296",
   "metadata": {
    "tags": []
   },
   "outputs": [],
   "source": [
    "# get the data\n"
   ]
  },
  {
   "cell_type": "code",
   "execution_count": null,
   "id": "52af2bff-ce5b-4b65-a33d-09beabfd5528",
   "metadata": {
    "tags": []
   },
   "outputs": [],
   "source": [
    "# Split data\n"
   ]
  },
  {
   "cell_type": "code",
   "execution_count": null,
   "id": "028047af-1cb3-4ce3-91f1-8e88cf61f6c5",
   "metadata": {
    "tags": []
   },
   "outputs": [],
   "source": [
    "# Normalize data after splitting\n"
   ]
  },
  {
   "cell_type": "code",
   "execution_count": null,
   "id": "da595e82-6a81-42a0-8ace-49e73f1e1c18",
   "metadata": {
    "tags": []
   },
   "outputs": [],
   "source": [
    "# Create sequences\n",
    "\n"
   ]
  },
  {
   "cell_type": "code",
   "execution_count": null,
   "id": "4449bc25-5fea-4d38-a35e-77502522966c",
   "metadata": {
    "tags": []
   },
   "outputs": [],
   "source": [
    "# Build the model\n"
   ]
  },
  {
   "cell_type": "code",
   "execution_count": null,
   "id": "3498de9c-04e8-4bf2-89fd-73a78c0874ef",
   "metadata": {
    "tags": []
   },
   "outputs": [],
   "source": [
    "# train the model\n"
   ]
  },
  {
   "cell_type": "code",
   "execution_count": null,
   "id": "f7afb335-86db-403e-ade0-3341465a2fee",
   "metadata": {
    "tags": []
   },
   "outputs": [],
   "source": [
    "# Plot training history\n"
   ]
  },
  {
   "cell_type": "code",
   "execution_count": null,
   "id": "08344bba-8377-4f10-bb9d-b0091f6357e5",
   "metadata": {
    "tags": []
   },
   "outputs": [],
   "source": [
    "# Make predictions\n"
   ]
  },
  {
   "cell_type": "code",
   "execution_count": null,
   "id": "23019ec0-83f8-4df3-8eb7-97deef37a95a",
   "metadata": {
    "tags": []
   },
   "outputs": [],
   "source": [
    "# Inverse transform predictions\n"
   ]
  },
  {
   "cell_type": "code",
   "execution_count": null,
   "id": "748868e7-e539-49c8-8236-15e04e14a50e",
   "metadata": {
    "tags": []
   },
   "outputs": [],
   "source": [
    "# Plot results\n"
   ]
  },
  {
   "cell_type": "code",
   "execution_count": null,
   "id": "df8b9db6-36a5-4f20-81ed-f75bad6ab38f",
   "metadata": {
    "tags": []
   },
   "outputs": [],
   "source": [
    "# Calculate and print metrics\n"
   ]
  },
  {
   "cell_type": "code",
   "execution_count": null,
   "id": "deee3b0e-035d-44df-bbe9-c47809836eba",
   "metadata": {},
   "outputs": [],
   "source": []
  }
 ],
 "metadata": {
  "kernelspec": {
   "display_name": "TF-GPU:2.16",
   "language": "python",
   "name": "tf-gpu"
  },
  "language_info": {
   "codemirror_mode": {
    "name": "ipython",
    "version": 3
   },
   "file_extension": ".py",
   "mimetype": "text/x-python",
   "name": "python",
   "nbconvert_exporter": "python",
   "pygments_lexer": "ipython3",
   "version": "3.11.0"
  }
 },
 "nbformat": 4,
 "nbformat_minor": 5
}
