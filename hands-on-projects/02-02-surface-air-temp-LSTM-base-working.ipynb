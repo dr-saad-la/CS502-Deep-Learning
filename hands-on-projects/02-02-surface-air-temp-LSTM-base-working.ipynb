{
 "cells": [
  {
   "cell_type": "code",
   "execution_count": null,
   "id": "3a6822cb-5660-477e-bb61-cc1d702bb2a3",
   "metadata": {
    "tags": []
   },
   "outputs": [],
   "source": [
    "# ========================================================================\n",
    "#                     Time Series Analysis Project\n",
    "# ========================================================================\n",
    "#    Project: Surface Air Temperature Mean Daily Minimum\n",
    "#    Model: Long Short-Term Memory (LSTM) Implementation\n",
    "#    \n",
    "#    Description:\n",
    "#    Advanced time series analysis using LSTM neural networks for temperature\n",
    "#    prediction. This implementation is part of a series exploring sequential\n",
    "#    models from SimpleRNN to Transformers.\n",
    "#    \n",
    "#    Author: Dr. Saad Laouadi\n",
    "#    Date: February 2025\n",
    "#    Version: 1.0\n",
    "#    \n",
    "# ========================================================================\n",
    "#  ®Copyright Dr. Saad Laouadi, 2025. All rights reserved.\n",
    "# ========================================================================"
   ]
  },
  {
   "cell_type": "code",
   "execution_count": null,
   "id": "18f9186e-9c9f-4116-b120-508321c6e856",
   "metadata": {
    "tags": []
   },
   "outputs": [],
   "source": [
    "# Import required libraries\n",
    "import numpy as np\n",
    "import pandas as pd\n",
    "import matplotlib.pyplot as plt\n",
    "from sklearn.preprocessing import MinMaxScaler\n",
    "\n",
    "import tensorflow as tf\n",
    "\n",
    "print(\"*\"*52)\n",
    "%reload_ext watermark\n",
    "\n",
    "%watermark -a \"Dr. Saad Laouadi\"\n",
    "%watermark -iv -ud\n",
    "print(\"*\"*52)"
   ]
  },
  {
   "cell_type": "code",
   "execution_count": null,
   "id": "a1cfe4fc-ec67-4fb3-b0ae-22c66fca7336",
   "metadata": {
    "tags": []
   },
   "outputs": [],
   "source": [
    "# =============================================================== #\n",
    "#        User Defined Functions\n",
    "# =============================================================== #\n",
    "\n",
    "def load_data(filepath):\n",
    "    \"\"\"\n",
    "    Load and preprocess the temperature data.\n",
    "    \"\"\"\n",
    "    df = pd.read_csv(filepath)\n",
    "    \n",
    "    # Convert month column to datetime\n",
    "    df['month'] = pd.to_datetime(df['month'], format='%Y-%m')\n",
    "    \n",
    "    # Set month as index\n",
    "    df.set_index('month', inplace=True)\n",
    "    \n",
    "    return df\n",
    "\n",
    "\n",
    "def create_sequences(data, lookback):\n",
    "    \"\"\"Create sequences for LSTM model.\"\"\"\n",
    "    X, y = [], []\n",
    "    for i in range(len(data) - lookback):\n",
    "        X.append(data[i:(i + lookback)])\n",
    "        y.append(data[i + lookback])\n",
    "    return np.array(X), np.array(y)\n",
    "\n",
    "\n",
    "def split_data(data, train_size=0.8):\n",
    "    \"\"\"Split data into training and testing sets.\"\"\"\n",
    "    n = len(data)\n",
    "    train_size = int(n * train_size)\n",
    "    train_data = data[:train_size]\n",
    "    test_data = data[train_size:]\n",
    "    return train_data, test_data\n",
    "\n",
    "\n",
    "def normalize_data(train_data, test_data):\n",
    "    \"\"\"Normalize data using MinMaxScaler.\"\"\"\n",
    "    scaler = MinMaxScaler()\n",
    "    train_scaled = scaler.fit_transform(train_data.reshape(-1, 1))\n",
    "    test_scaled = scaler.transform(test_data.reshape(-1, 1))\n",
    "    return train_scaled, test_scaled, scaler\n",
    "\n",
    "def plot_training_history(history):\n",
    "    \"\"\"Plot training history.\"\"\"\n",
    "    plt.figure(figsize=(12, 4))\n",
    "    \n",
    "    plt.subplot(1, 2, 1)\n",
    "    plt.plot(history.history['loss'], label='Training Loss')\n",
    "    plt.plot(history.history['val_loss'], label='Validation Loss')\n",
    "    plt.title('Model Loss')\n",
    "    plt.xlabel('Epoch')\n",
    "    plt.ylabel('Loss')\n",
    "    plt.legend()\n",
    "    \n",
    "    plt.subplot(1, 2, 2)\n",
    "    plt.plot(history.history['mean_absolute_error'], label='Training MAE')\n",
    "    plt.plot(history.history['val_mean_absolute_error'], label='Validation MAE')\n",
    "    plt.title('Model MAE')\n",
    "    plt.xlabel('Epoch')\n",
    "    plt.ylabel('MAE')\n",
    "    plt.legend()\n",
    "    \n",
    "    plt.tight_layout()\n",
    "    plt.show()\n",
    "\n",
    "    \n",
    "def plot_predictions(actual, predictions, title):\n",
    "    \"\"\"Plot actual vs predicted values.\"\"\"\n",
    "    plt.figure(figsize=(12, 6))\n",
    "    plt.plot(actual, label='Actual')\n",
    "    plt.plot(predictions, label='Predicted')\n",
    "    plt.title(title)\n",
    "    plt.xlabel('Time Step')\n",
    "    plt.ylabel('Temperature')\n",
    "    plt.legend()\n",
    "    plt.grid(True)\n",
    "    plt.show()\n",
    "\n",
    "\n",
    "def evaluate_model(model, X_test, y_test, scaler):\n",
    "    \"\"\"Evaluate the LSTM model performance.\"\"\"\n",
    "    # Make predictions\n",
    "    predictions = model.predict(X_test)\n",
    "    \n",
    "    # Inverse transform predictions and actual values\n",
    "    predictions = scaler.inverse_transform(predictions)\n",
    "    y_test_inv = scaler.inverse_transform(y_test.reshape(-1, 1))\n",
    "    \n",
    "    # Initialize metrics\n",
    "    mse_metric = tf.keras.metrics.MeanSquaredError()\n",
    "    mae_metric = tf.keras.metrics.MeanAbsoluteError()\n",
    "    rmse_metric = tf.keras.metrics.RootMeanSquaredError()\n",
    "    \n",
    "    # Update metrics state\n",
    "    mse_metric.update_state(y_test_inv, predictions)\n",
    "    rmse_metric.update_state(y_test_inv, predictions)\n",
    "    mae_metric.update_state(y_test_inv, predictions)\n",
    "    \n",
    "    # Calculate final metrics\n",
    "    mse = mse_metric.result().numpy()\n",
    "    rmse = rmse_metric.result().numpy()\n",
    "    mae = mae_metric.result().numpy()\n",
    "    \n",
    "    metrics = {\n",
    "        \"mse\": mse,\n",
    "        \"rmse\": rmse,\n",
    "        \"mae\": mae\n",
    "    }\n",
    "    print(f'Test MSE:  {mse:.4f}')\n",
    "    print(f'Test RMSE: {rmse:.4f}')\n",
    "    print(f'Test MAE:  {mae:.4f}')\n",
    "    \n",
    "    return predictions, y_test_inv, metrics"
   ]
  },
  {
   "cell_type": "code",
   "execution_count": null,
   "id": "799adf21-07db-4362-bed9-81da0b231728",
   "metadata": {},
   "outputs": [],
   "source": [
    "# Create a function that defines simple LSTM model\n",
    "\n"
   ]
  },
  {
   "cell_type": "code",
   "execution_count": null,
   "id": "7e551ec5-9164-49b7-a950-b6b6c59b230a",
   "metadata": {},
   "outputs": [],
   "source": [
    "# Create a function that trains the model\n",
    "\n"
   ]
  },
  {
   "cell_type": "code",
   "execution_count": null,
   "id": "98928760-0b44-4bed-af9c-905e84a57837",
   "metadata": {
    "tags": []
   },
   "outputs": [],
   "source": [
    "# Main execution\n",
    "# =============\n",
    "# Load data\n",
    "data_path = \"../../datasets/SurfaceAirTemperatureMonthlyMeanDailyMinimum.csv\" # change this path if necessary\n"
   ]
  },
  {
   "cell_type": "code",
   "execution_count": null,
   "id": "62c2a110-0964-4377-92a6-2613991acd04",
   "metadata": {
    "tags": []
   },
   "outputs": [],
   "source": [
    "# print the data index\n"
   ]
  },
  {
   "cell_type": "code",
   "execution_count": null,
   "id": "2cad4ccf-9949-4ad2-a9d6-8aa7d0dec079",
   "metadata": {
    "tags": []
   },
   "outputs": [],
   "source": [
    "# get air-temperature data\n"
   ]
  },
  {
   "cell_type": "code",
   "execution_count": null,
   "id": "a64984c9-8a9d-443c-a059-13dbb826c51f",
   "metadata": {
    "tags": []
   },
   "outputs": [],
   "source": [
    "# Split data\n"
   ]
  },
  {
   "cell_type": "code",
   "execution_count": null,
   "id": "039a9b6a-632e-4849-896d-876085c57fb7",
   "metadata": {
    "tags": []
   },
   "outputs": [],
   "source": [
    "# Normalize data after splitting\n"
   ]
  },
  {
   "cell_type": "code",
   "execution_count": null,
   "id": "1bde74c7-7de4-4dd4-bbcb-5bedd13faed5",
   "metadata": {
    "tags": []
   },
   "outputs": [],
   "source": [
    "# Create sequences\n",
    "\n",
    "# check the shape\n"
   ]
  },
  {
   "cell_type": "code",
   "execution_count": null,
   "id": "69184076-3c50-47a7-bdad-9a896593df1d",
   "metadata": {
    "tags": []
   },
   "outputs": [],
   "source": [
    "# Build and train model\n",
    "\n",
    "\n",
    "# check model summary\n",
    "\n"
   ]
  },
  {
   "cell_type": "code",
   "execution_count": null,
   "id": "351c7083-628a-4fb1-81e2-01c86d6b5780",
   "metadata": {
    "tags": []
   },
   "outputs": [],
   "source": [
    "# train the model\n",
    "\n"
   ]
  },
  {
   "cell_type": "code",
   "execution_count": null,
   "id": "d00b0df1-3d16-477d-89e5-ca6015dab3f2",
   "metadata": {
    "tags": []
   },
   "outputs": [],
   "source": [
    "# Plot training history\n",
    "\n"
   ]
  },
  {
   "cell_type": "code",
   "execution_count": null,
   "id": "0d4bbb97-972b-4845-9106-22f9fc7e77c0",
   "metadata": {},
   "outputs": [],
   "source": [
    "# Make predictions and evaluate on train data\n",
    "\n"
   ]
  },
  {
   "cell_type": "code",
   "execution_count": null,
   "id": "2dc87f39-2906-402d-b5bc-04a7ccbaa3cb",
   "metadata": {
    "tags": []
   },
   "outputs": [],
   "source": [
    "# Make predictions and evaluate on test data\n",
    "\n"
   ]
  },
  {
   "cell_type": "code",
   "execution_count": null,
   "id": "65d73d17-e7ec-45e9-8952-bc6f6bdc945f",
   "metadata": {
    "tags": []
   },
   "outputs": [],
   "source": [
    "# Plot results\n",
    "\n"
   ]
  },
  {
   "cell_type": "code",
   "execution_count": null,
   "id": "0a60a5c6-8316-4abf-b175-83c7c242b5a9",
   "metadata": {
    "tags": []
   },
   "outputs": [],
   "source": [
    "# convert the train metrics into dataframe and display them\n"
   ]
  },
  {
   "cell_type": "code",
   "execution_count": null,
   "id": "b04b7d9f-aed9-43b1-97c1-dc36677def7b",
   "metadata": {
    "tags": []
   },
   "outputs": [],
   "source": [
    "# convert the test metrics into dataframe and display them\n"
   ]
  },
  {
   "cell_type": "code",
   "execution_count": null,
   "id": "b1a19a14-5685-4d70-aa64-e67f2e4f1057",
   "metadata": {},
   "outputs": [],
   "source": []
  }
 ],
 "metadata": {
  "kernelspec": {
   "display_name": "TF-GPU:2.16",
   "language": "python",
   "name": "tf-gpu"
  },
  "language_info": {
   "codemirror_mode": {
    "name": "ipython",
    "version": 3
   },
   "file_extension": ".py",
   "mimetype": "text/x-python",
   "name": "python",
   "nbconvert_exporter": "python",
   "pygments_lexer": "ipython3",
   "version": "3.11.0"
  }
 },
 "nbformat": 4,
 "nbformat_minor": 5
}
